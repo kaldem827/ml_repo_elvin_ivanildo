{
 "cells": [
  {
   "metadata": {},
   "cell_type": "markdown",
   "source": "<h1>1.Understanding the content of the competition</h1>",
   "id": "2cf48780d1cfecca"
  },
  {
   "metadata": {},
   "cell_type": "markdown",
   "source": [
    "### Home Credit Default Risk Competition\n",
    "\n",
    "#### Home Credit Overview\n",
    "**Home Credit** is a financial services company that provides accessible loans and credit products to individuals with limited credit histories. They aim to offer inclusive financial solutions to underserved populations.\n",
    "\n",
    "#### Competition Expectations\n",
    "Participants are tasked with developing models to predict the probability of a loan applicant defaulting. The competition involves analyzing a rich dataset of customer information and financial behavior to create accurate predictive algorithms.\n",
    "\n",
    "#### Benefits of Predicting Default Risk\n",
    "Accurate predictions help companies:\n",
    "- Minimize financial losses by identifying high-risk borrowers.\n",
    "- Tailor loan offers to individual creditworthiness.\n",
    "- Enhance risk management and decision-making.\n",
    "- Improve customer satisfaction with appropriate credit products."
   ],
   "id": "d3c6d2e90013d2c9"
  },
  {
   "metadata": {},
   "cell_type": "markdown",
   "source": "<h1>2.Understanding the content of the competition</h1>",
   "id": "23fa70e9f8e6bc00"
  },
  {
   "metadata": {},
   "cell_type": "code",
   "outputs": [],
   "execution_count": null,
   "source": [
    "import pandas as pd\n",
    "import numpy as np \n",
    "import seaborn as sns\n",
    "import matplotlib.pyplot as plt\n",
    "\n",
    "application_df = pd.read_csv(\"application_train.csv\")\n",
    "application_df.head()"
   ],
   "id": "4e4ddcd05061bbff"
  }
 ],
 "metadata": {
  "kernelspec": {
   "display_name": "Python 3",
   "language": "python",
   "name": "python3"
  },
  "language_info": {
   "codemirror_mode": {
    "name": "ipython",
    "version": 2
   },
   "file_extension": ".py",
   "mimetype": "text/x-python",
   "name": "python",
   "nbconvert_exporter": "python",
   "pygments_lexer": "ipython2",
   "version": "2.7.6"
  }
 },
 "nbformat": 4,
 "nbformat_minor": 5
}
