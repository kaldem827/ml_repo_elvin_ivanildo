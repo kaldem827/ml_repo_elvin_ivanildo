{
 "cells": [
  {
   "cell_type": "markdown",
   "source": [
    "<h1>1.How many times to fold paper to exceed the height of Mt.Fuji? </h1>"
   ],
   "metadata": {
    "collapsed": false
   },
   "id": "ff45bc0e1b282591"
  },
  {
   "cell_type": "code",
   "outputs": [
    {
     "name": "stdout",
     "output_type": "stream",
     "text": [
      "Around 25 folds to exceed mt fuji height\n"
     ]
    }
   ],
   "source": [
    "import math\n",
    "\n",
    "\n",
    "def number_of_folds(thickness):\n",
    "    folds = math.log2(thickness /  0.00008)\n",
    "    return folds   \n",
    "mt_fuji_height = 3776\n",
    "print(f\"Around {int(number_of_folds(mt_fuji_height))} folds to exceed mt fuji height\")\n",
    "    "
   ],
   "metadata": {
    "collapsed": false,
    "ExecuteTime": {
     "end_time": "2024-02-12T10:54:15.139871500Z",
     "start_time": "2024-02-12T10:54:15.104381900Z"
    }
   },
   "id": "9f56f4ad8c4d3d49",
   "execution_count": 21
  },
  {
   "cell_type": "markdown",
   "source": [
    "<h1>2.Function corresponding to arbitrary thickness</h1>"
   ],
   "metadata": {
    "collapsed": false
   },
   "id": "e6dbb6f1eac3cea6"
  },
  {
   "cell_type": "code",
   "outputs": [
    {
     "name": "stdout",
     "output_type": "stream",
     "text": [
      "Around 68 to reach proxima centauri\n"
     ]
    }
   ],
   "source": [
    "import math\n",
    "\n",
    "def number_of_folds(thickness):\n",
    "    folds = math.log2(thickness /  0.00008)\n",
    "    return folds\n",
    "    \n",
    "distance_to_proxima_centauri = 4.0175*10**16\n",
    "print(f\"Around {int(number_of_folds(distance_to_proxima_centauri))} to reach proxima centauri\")"
   ],
   "metadata": {
    "collapsed": false,
    "ExecuteTime": {
     "end_time": "2024-02-12T10:54:15.140873600Z",
     "start_time": "2024-02-12T10:54:15.123401500Z"
    }
   },
   "id": "133acb2f38286d7e",
   "execution_count": 22
  },
  {
   "cell_type": "markdown",
   "source": [
    "<h1>3. Required paper length </h1>"
   ],
   "metadata": {
    "collapsed": false
   },
   "id": "2096d15cc7f1b07f"
  },
  {
   "cell_type": "code",
   "outputs": [
    {
     "name": "stdout",
     "output_type": "stream",
     "text": [
      "Paper length to centauri 3.648950900275087e+36\n",
      "Paper length to moon 3.3187015108297837e+24\n",
      "Paper length to fuji 47161589230.09706\n"
     ]
    }
   ],
   "source": [
    "import math\n",
    "\n",
    "def number_of_folds(thickness):\n",
    "    folds = math.log2(thickness /  0.00008)\n",
    "    return folds\n",
    "\n",
    "def length_by_folds(folds):\n",
    "    l = ((math.pi * 0.00008) / 6)*((2**folds) + 4) * ((2**folds) - 1)\n",
    "    return l\n",
    "\n",
    "distance_to_proxima_centauri = 4.0175*10**16\n",
    "paper_length_to_centauri = length_by_folds(int(number_of_folds(distance_to_proxima_centauri)))\n",
    "\n",
    "distance_to_moon = 384400000 * 100\n",
    "paper_length_to_moon = length_by_folds(int(number_of_folds(distance_to_moon)))\n",
    "\n",
    "distance_mt_fuji = 3776\n",
    "paper_length_mt_fuji = length_by_folds(int(number_of_folds(distance_mt_fuji)))\n",
    "print(\"Paper length to centauri\",paper_length_to_centauri)\n",
    "print(\"Paper length to moon\",paper_length_to_moon)\n",
    "print(\"Paper length to fuji\", paper_length_mt_fuji)"
   ],
   "metadata": {
    "collapsed": false,
    "ExecuteTime": {
     "end_time": "2024-02-12T10:54:15.195448700Z",
     "start_time": "2024-02-12T10:54:15.145872100Z"
    }
   },
   "id": "ba0856f58c3f436e",
   "execution_count": 23
  }
 ],
 "metadata": {
  "kernelspec": {
   "display_name": "Python 3",
   "language": "python",
   "name": "python3"
  },
  "language_info": {
   "codemirror_mode": {
    "name": "ipython",
    "version": 2
   },
   "file_extension": ".py",
   "mimetype": "text/x-python",
   "name": "python",
   "nbconvert_exporter": "python",
   "pygments_lexer": "ipython2",
   "version": "2.7.6"
  }
 },
 "nbformat": 4,
 "nbformat_minor": 5
}
