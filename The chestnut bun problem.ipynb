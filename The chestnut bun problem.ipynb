{
 "cells": [
  {
   "cell_type": "markdown",
   "source": [
    "<h1>The day when chestnut buns cover the solar system</h1>"
   ],
   "metadata": {
    "collapsed": false
   },
   "id": "6e260e8217cb3a7f"
  },
  {
   "cell_type": "code",
   "outputs": [
    {
     "name": "stdout",
     "output_type": "stream",
     "text": [
      "The time to cover the solar system is 10.75 hours\n"
     ]
    }
   ],
   "source": [
    "import math\n",
    "\n",
    "def time_to_cover(volume, initial_rate, rate_doubling_interval):\n",
    "    total_time = 0\n",
    "    while volume > 0:\n",
    "        total_time += rate_doubling_interval\n",
    "        volume -= initial_rate * rate_doubling_interval\n",
    "        initial_rate *= 2  # \n",
    "    return total_time / (60 * 60)  # time in hours\n",
    "\n",
    "\n",
    "solar_system_volume = 4 / 3 * math.pi * (4.498 * 10**12)**3  # volume in cubic meters\n",
    "bun_average_diameter = 7 / 100  # where 7 is in cm\n",
    "bun_volume = (4 / 3) * (bun_average_diameter / 2)**3 * math.pi\n",
    "initial_prod_rate = (1 / 5) / 60  # initial production rate: one bun every 5 minutes\n",
    "\n",
    "time_to_cover_solar_system = time_to_cover(solar_system_volume, initial_prod_rate, 5 * 60)\n",
    "\n",
    "print(f\"The time to cover the solar system is {time_to_cover_solar_system:.2f} hours\")\n"
   ],
   "metadata": {
    "collapsed": false,
    "ExecuteTime": {
     "end_time": "2024-02-12T11:22:18.876289Z",
     "start_time": "2024-02-12T11:22:18.872332500Z"
    }
   },
   "id": "ce2988c5501894ea",
   "execution_count": 12
  }
 ],
 "metadata": {
  "kernelspec": {
   "display_name": "Python 3",
   "language": "python",
   "name": "python3"
  },
  "language_info": {
   "codemirror_mode": {
    "name": "ipython",
    "version": 2
   },
   "file_extension": ".py",
   "mimetype": "text/x-python",
   "name": "python",
   "nbconvert_exporter": "python",
   "pygments_lexer": "ipython2",
   "version": "2.7.6"
  }
 },
 "nbformat": 4,
 "nbformat_minor": 5
}
