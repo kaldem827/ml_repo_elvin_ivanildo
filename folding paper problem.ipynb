{
 "cells": [
  {
   "cell_type": "markdown",
   "source": [
    "<h1>1.Implementation using exponentiation arithmetic operators</h1>"
   ],
   "metadata": {
    "collapsed": false
   },
   "id": "db63a2ac008326ce"
  },
  {
   "cell_type": "code",
   "outputs": [],
   "source": [
    "THICKNESS = 0.00008\n",
    "\n",
    "folded_thickness = THICKNESS * (2 ** 43)\n",
    "\n",
    "print(\"Thickness: {} meters\".format(folded_thickness))"
   ],
   "metadata": {
    "collapsed": false
   },
   "id": "917fbe2e085d2bc9",
   "execution_count": null
  },
  {
   "cell_type": "markdown",
   "source": [
    "<h1>2.Unit Conversion</h1>"
   ],
   "metadata": {
    "collapsed": false
   },
   "id": "a856379c4b34e3ee"
  },
  {
   "cell_type": "code",
   "outputs": [],
   "source": [
    "THICKNESS = 0.00008\n",
    "\n",
    "folded_thickness = THICKNESS * (2 ** 43)\n",
    "\n",
    "print(\"Thickness: {: .2f} kilometers\".format(folded_thickness / (1000 * 10000)))"
   ],
   "metadata": {
    "collapsed": false
   },
   "id": "9c413d8c98c6389",
   "execution_count": null
  },
  {
   "cell_type": "markdown",
   "source": [
    "<h1>3.Create using a for statement</h1>"
   ],
   "metadata": {
    "collapsed": false
   },
   "id": "871888ef7a88767f"
  },
  {
   "cell_type": "code",
   "outputs": [],
   "source": [
    "THICKNESS = 0.00008\n",
    "folded_thickness = THICKNESS\n",
    "for _ in range(43):\n",
    "    folded_thickness *= 2\n",
    "print(\"Thickness: {} meters\".format(folded_thickness))"
   ],
   "metadata": {
    "collapsed": false
   },
   "id": "c3100102c3f31de1",
   "execution_count": null
  },
  {
   "cell_type": "markdown",
   "source": [
    "<h1>4. Comparison of calculation time</h1>"
   ],
   "metadata": {
    "collapsed": false
   },
   "id": "97f28b92c11f0dd0"
  },
  {
   "cell_type": "code",
   "outputs": [],
   "source": [
    "import time\n",
    "\n",
    "#exponentiation\n",
    "start = time.time()\n",
    "folded_thickness = THICKNESS * (2 ** 43)\n",
    "elapsed_time_exp = time.time() - start\n",
    "\n",
    "#for loop\n",
    "start = time.time()\n",
    "folded_thickness = THICKNESS\n",
    "for _ in range(43):\n",
    "    folded_thickness *= 2\n",
    "elapsed_time_for = time.time() - start\n",
    "\n",
    "print(\"Exponentiation Operator Time: {}[s]\".format(elapsed_time_exp))\n",
    "print(\"For Loop Time: {}[s]\".format(elapsed_time_for))"
   ],
   "metadata": {
    "collapsed": false
   },
   "id": "aec18e4fda478c8e",
   "execution_count": null
  },
  {
   "cell_type": "markdown",
   "source": [
    "<h1>5. Saving to a list</h1>"
   ],
   "metadata": {
    "collapsed": false
   },
   "id": "a79bbb0488b484b2"
  },
  {
   "cell_type": "code",
   "outputs": [],
   "source": [
    "THICKNESS = 0.00008\n",
    "thickness_list = [THICKNESS]\n",
    "for _ in range(0, 43):\n",
    "    thickness_list.append(thickness_list[-1] * 2)\n",
    "print(\"Number of elements in list:\", len(thickness_list))\n"
   ],
   "metadata": {
    "collapsed": false
   },
   "id": "44328960c64c599f",
   "execution_count": null
  },
  {
   "cell_type": "markdown",
   "source": [
    "<h1>6. Displaying a line graph</h1>"
   ],
   "metadata": {
    "collapsed": false
   },
   "id": "b26ac0768b4f4cdd"
  },
  {
   "cell_type": "code",
   "outputs": [],
   "source": [
    "import matplotlib.pyplot as plt\n",
    "\n",
    "plt.title(\"Thickness of folded paper\")\n",
    "plt.xlabel(\"Number of folds\")\n",
    "plt.ylabel(\"Thickness [m]\")\n",
    "plt.plot(thickness_list)\n",
    "plt.show()"
   ],
   "metadata": {
    "collapsed": false
   },
   "id": "2697798eb863cc4",
   "execution_count": null
  },
  {
   "cell_type": "markdown",
   "source": [
    "<h1>7. Customizing graphs </h1>"
   ],
   "metadata": {
    "collapsed": false
   },
   "id": "a5bde13b56c57ab2"
  },
  {
   "cell_type": "code",
   "outputs": [],
   "source": [
    "\n",
    "#linewidth\n",
    "plt.title(\"Thickness of folded paper\")\n",
    "plt.xlabel(\"Number of folds\")\n",
    "plt.ylabel(\"Thickness [m]\")\n",
    "plt.plot(thickness_list,  linewidth=2, )\n",
    "plt.show()\n",
    "\n",
    "#color\n",
    "plt.title(\"Thickness of folded paper\")\n",
    "plt.xlabel(\"Number of folds\")\n",
    "plt.ylabel(\"Thickness [m]\")\n",
    "plt.plot(thickness_list, color='green',)\n",
    "plt.show()\n",
    "\n",
    "#linesttyle\n",
    "plt.title(\"Thickness of folded paper\")\n",
    "plt.xlabel(\"Number of folds\")\n",
    "plt.ylabel(\"Thickness [m]\")\n",
    "plt.plot(thickness_list, linestyle='dotted')\n",
    "plt.show()"
   ],
   "metadata": {
    "collapsed": false
   },
   "id": "15c4d8d6e6fcc977",
   "execution_count": null
  },
  {
   "cell_type": "code",
   "outputs": [],
   "source": [],
   "metadata": {
    "collapsed": false
   },
   "id": "9886844cef9f2bbe",
   "execution_count": null
  }
 ],
 "metadata": {
  "kernelspec": {
   "display_name": "Python 3",
   "language": "python",
   "name": "python3"
  },
  "language_info": {
   "codemirror_mode": {
    "name": "ipython",
    "version": 2
   },
   "file_extension": ".py",
   "mimetype": "text/x-python",
   "name": "python",
   "nbconvert_exporter": "python",
   "pygments_lexer": "ipython2",
   "version": "2.7.6"
  }
 },
 "nbformat": 4,
 "nbformat_minor": 5
}
