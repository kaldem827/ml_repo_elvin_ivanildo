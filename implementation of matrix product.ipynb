{
 "cells": [
  {
   "cell_type": "markdown",
   "source": [
    "<h1>1. Matrix product is calculated manually </h1>"
   ],
   "metadata": {
    "collapsed": false
   },
   "id": "fb7d72222a862969"
  },
  {
   "cell_type": "markdown",
   "source": [
    "| Position | Calculation                                          | Result |\n",
    "|----------|------------------------------------------------------|--------|\n",
    "| 1, 1     | \\(-1 * 0) + (2 * 0) + (3 * 2)                        | 6      |\n",
    "| 1, 2     | \\(-1 * 2) + (2 * 2) + (3 * 9)                        | 29     |\n",
    "| 1, 3     | \\(-1 * 1) + (2 * -8) + (3 * -1)                      | -20    |\n",
    "| 2, 1     | \\(4 * 0) + (-5 * 0) + (6 * 2)                        | 12     |\n",
    "| 2, 2     | \\(4 * 2) + (-5 * 2) + (6 * 9)                        | 52     |\n",
    "| 2, 3     | \\(4 * 1) + (-5 * -8) + (6 * -1)                      | 38     |\n",
    "| 3, 1     | \\(7 * 0) + (8 * 0) + (-9 * 2)                        | -18    |\n",
    "| 3, 2     | \\(7 * 2) + (8 * 2) + (-9 * 9)                        | -51    |\n",
    "| 3, 3     | \\(7 * 1) + (8 * -8) + (-9 * -1)                      | -48    |\n"
   ],
   "metadata": {
    "collapsed": false
   },
   "id": "ec8615559ff71fec"
  },
  {
   "cell_type": "markdown",
   "source": [
    "# Explanation\n",
    "\n",
    "## Thought Process\n",
    "\n",
    "1. **Input Matrices**: We start with two input matrices, `A` and `B`, where `A` has dimensions `m x n` and `B` has dimensions `n x p`.\n",
    "\n",
    "2. **Checking Compatibility**: Before multiplying the matrices, we need to ensure that the number of columns in `A` matches the number of rows in `B`. If not, the matrices cannot be multiplied.\n",
    "\n",
    "3. **Result Matrix Initialization**: We initialize an empty result matrix `C` with dimensions `m x p`, where each element is initially set to zero. The resulting matrix would be `C` `m x p` if `A` `m x n` and `B` `n x p` where `A` (`n`) = `B` (`n`)\n",
    "\n",
    "4. **Multiplying Matrices**: To compute each element `C[i][j]` of the result matrix `C`, we perform the dot product of the `i-th` row of matrix `A` and the `j-th` column of matrix `B`.\n",
    "\n",
    "5. **Iterating over Elements**: We iterate over each element `C[i][j]` and compute its value by summing the products of corresponding elements from the `i-th` row of `A` and `j-th` column of `B`.\n",
    "\n",
    "6. **Return Result Matrix**: Once all elements of the result matrix `C` are computed, we return the final result.\n",
    "\n",
    "## Example\n",
    "\n",
    "Consider matrices:\n",
    "\n",
    "A = [\\[3, 1, 4\\]]\n",
    "\n",
    "B = [[4, 3], [2, 5], [6, 8]]\n",
    "\n",
    "After multiplication, the resulting matrix C will be:\n",
    "\n",
    "C = [[32, 44]]\n"
   ],
   "metadata": {
    "collapsed": false
   },
   "id": "15e39de78977ca85"
  },
  {
   "cell_type": "markdown",
   "source": [
    "<h1> 2. Calculation by NumPy function</h1>"
   ],
   "metadata": {
    "collapsed": false
   },
   "id": "fede79585c82c8e3"
  },
  {
   "cell_type": "code",
   "outputs": [
    {
     "name": "stdout",
     "output_type": "stream",
     "text": [
      "[[  6  29 -20]\n",
      " [ 12  52  38]\n",
      " [-18 -51 -48]]\n"
     ]
    }
   ],
   "source": [
    "import numpy as np\n",
    "a = np.array([[-1, 2, 3], [4, -5, 6], [7, 8, -9]])\n",
    "b = np.array([[0, 2, 1], [0, 2, -8], [2, 9, -1]])\n",
    "\n",
    "result = np.matmul(a, b)\n",
    "print(result)"
   ],
   "metadata": {
    "collapsed": false,
    "ExecuteTime": {
     "end_time": "2024-02-20T13:37:55.553552700Z",
     "start_time": "2024-02-20T13:37:55.523819900Z"
    }
   },
   "id": "2599f3629f5d1d",
   "execution_count": 29
  },
  {
   "cell_type": "markdown",
   "source": [
    "<h1>3.Implementation of calculation of a certain element </h1>"
   ],
   "metadata": {
    "collapsed": false
   },
   "id": "65646f55c0cf158f"
  },
  {
   "cell_type": "code",
   "outputs": [
    {
     "name": "stdout",
     "output_type": "stream",
     "text": [
      "Result: 6\n"
     ]
    }
   ],
   "source": [
    "import numpy as np\n",
    "a_ndarray = np.array([[-1, 2, 3], [4, -5, 6], [7, 8, -9]])\n",
    "b_ndarray = np.array([[0, 2, 1], [0, 2, -8], [2, 9, -1]])\n",
    "result = 0\n",
    "for k in range(len(a_ndarray[0])):\n",
    "        result += a_ndarray[0][k] * b_ndarray[k][0]\n",
    "\n",
    "print(\"Result:\", result)"
   ],
   "metadata": {
    "collapsed": false,
    "ExecuteTime": {
     "end_time": "2024-02-20T13:37:55.584414Z",
     "start_time": "2024-02-20T13:37:55.558520600Z"
    }
   },
   "id": "26b61c10213a5c6f",
   "execution_count": 30
  },
  {
   "cell_type": "markdown",
   "source": [
    "<h1>4. Creating a function that performs matrix multiplication </h1>"
   ],
   "metadata": {
    "collapsed": false
   },
   "id": "663e48880423c452"
  },
  {
   "cell_type": "code",
   "outputs": [
    {
     "name": "stdout",
     "output_type": "stream",
     "text": [
      "Cannot multiply matrices\n",
      "Row 1 will be multiplied  3  times\n",
      "Row 2 will be multiplied  3  times\n",
      "Row 3 will be multiplied  3  times\n",
      "[[  6  29 -20]\n",
      " [ 12  52  38]\n",
      " [-18 -51 -48]]\n"
     ]
    }
   ],
   "source": [
    "\n",
    "def multiply_matrices(a, b):\n",
    "    a_cols = len(a[0])\n",
    "    a_rows = len(a)\n",
    "    b_cols = len(b[0])\n",
    "    b_rows = len(b)\n",
    "    result = np.zeros((a_rows, b_cols), dtype=int)\n",
    "    if a_cols != b_rows:\n",
    "        return \"Cannot multiply matrices\"\n",
    "    for i in range(a_rows):\n",
    "        print(f\"Row {i+1} will be multiplied \", b_cols, \" times\")\n",
    "        for j in range(b_cols):\n",
    "            for k in range(b_rows):\n",
    "                result[i][j] += a[i][k] * b[k][j]\n",
    "    return result    \n",
    "      \n",
    "d_ndarray = np.array([[-1, 2, 3], [4, -5, 6]])\n",
    "e_ndarray = np.array([[-9, 8, 7], [6, -5, 4]])        \n",
    "print(multiply_matrices(d_ndarray, e_ndarray))\n",
    "print(multiply_matrices(a_ndarray, b_ndarray))\n"
   ],
   "metadata": {
    "collapsed": false,
    "ExecuteTime": {
     "end_time": "2024-02-20T13:37:55.636492800Z",
     "start_time": "2024-02-20T13:37:55.590417300Z"
    }
   },
   "id": "6af6b8dbd6a28a73",
   "execution_count": 31
  },
  {
   "cell_type": "markdown",
   "source": [
    "<h1>5. Judge the input whose calculation is not defined <h1>"
   ],
   "metadata": {
    "collapsed": false
   },
   "id": "cd266709c56f3ee0"
  },
  {
   "cell_type": "code",
   "outputs": [],
   "source": [
    "# Already implement the function with guard clauses"
   ],
   "metadata": {
    "collapsed": false,
    "ExecuteTime": {
     "end_time": "2024-02-20T13:37:55.636492800Z",
     "start_time": "2024-02-20T13:37:55.595458Z"
    }
   },
   "id": "5812d3c234dbb68e",
   "execution_count": 32
  },
  {
   "cell_type": "markdown",
   "source": [
    "<h1>6. Transposition </h1>"
   ],
   "metadata": {
    "collapsed": false
   },
   "id": "8555365d79c9ff29"
  },
  {
   "cell_type": "code",
   "outputs": [
    {
     "name": "stdout",
     "output_type": "stream",
     "text": [
      "Row 1 will be multiplied  3  times\n",
      "Row 2 will be multiplied  3  times\n",
      "Row 3 will be multiplied  3  times\n",
      "Transposed product of the matrices\n",
      " [[  6  12 -18]\n",
      " [ 29  52 -51]\n",
      " [-20  38 -48]]\n"
     ]
    }
   ],
   "source": [
    "print(\"Transposed product of the matrices\\n\", np.transpose(multiply_matrices(a_ndarray, b_ndarray)))"
   ],
   "metadata": {
    "collapsed": false,
    "ExecuteTime": {
     "end_time": "2024-02-20T13:37:55.637492800Z",
     "start_time": "2024-02-20T13:37:55.603741Z"
    }
   },
   "id": "aae311a5276f42f7",
   "execution_count": 33
  },
  {
   "cell_type": "code",
   "outputs": [],
   "source": [],
   "metadata": {
    "collapsed": false,
    "ExecuteTime": {
     "end_time": "2024-02-20T13:37:55.685781300Z",
     "start_time": "2024-02-20T13:37:55.641725300Z"
    }
   },
   "id": "c5f1b4c8f9b50726",
   "execution_count": 33
  }
 ],
 "metadata": {
  "kernelspec": {
   "display_name": "Python 3",
   "language": "python",
   "name": "python3"
  },
  "language_info": {
   "codemirror_mode": {
    "name": "ipython",
    "version": 2
   },
   "file_extension": ".py",
   "mimetype": "text/x-python",
   "name": "python",
   "nbconvert_exporter": "python",
   "pygments_lexer": "ipython2",
   "version": "2.7.6"
  }
 },
 "nbformat": 4,
 "nbformat_minor": 5
}
