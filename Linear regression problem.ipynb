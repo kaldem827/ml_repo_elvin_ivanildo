{
  "cells": [
    {
      "cell_type": "markdown",
      "metadata": {
        "id": "view-in-github",
        "colab_type": "text"
      },
      "source": [
        "<a href=\"https://colab.research.google.com/github/PeterYves/DIC-ML-Assignmnent/blob/main/sprint_linear_regression.ipynb\" target=\"_parent\"><img src=\"https://colab.research.google.com/assets/colab-badge.svg\" alt=\"Open In Colab\"/></a>"
      ]
    },
    {
      "cell_type": "markdown",
      "metadata": {
        "id": "HHH04vZ0CIY0"
      },
      "source": [
        "# **Scratch Linear Regression**\n",
        "\n",
        "---"
      ]
    },
    {
      "cell_type": "code",
      "execution_count": null,
      "metadata": {
        "id": "1jvC6lmG8QAh"
      },
      "outputs": [],
      "source": [
        "import numpy as np\n",
        "import pandas as pd"
      ]
    },
    {
      "cell_type": "code",
      "execution_count": null,
      "metadata": {
        "id": "k-lbOrdkQQP7"
      },
      "outputs": [],
      "source": [
        "class ScratchLinearRegression():\n",
        "    \"\"\"\n",
        "    Scratch implementation of linear regression\n",
        "    \n",
        "    Parameters\n",
        "    ----------\n",
        "    num_iter : int\n",
        "      Number of iterations\n",
        "    lr : float\n",
        "      Learning rate\n",
        "    no_bias : bool\n",
        "      True if no bias term is included\n",
        "    verbose : bool\n",
        "      True to output the learning process\n",
        "    \n",
        "    Attributes\n",
        "    ----------\n",
        "    self.coef_ : ndarray, shape (n_features,)\n",
        "      Parameters\n",
        "    self.loss : ndarray, shape (self.iter,)\n",
        "      Record losses on training data\n",
        "    self.val_loss : ndarray, shape (self.iter,)\n",
        "      Record loss on validation data\n",
        "    \"\"\"\n",
        "    \n",
        "    def __init__(self, num_iter=1000, lr=0.01, no_bias=False, verbose=False):\n",
        "        # Record hyperparameters as attributes\n",
        "        self.iter = num_iter\n",
        "        self.lr = lr\n",
        "        self.no_bias = no_bias\n",
        "        self.verbose = verbose\n",
        "        # Prepare an array to record the loss\n",
        "        self.loss = np.zeros(self.iter)\n",
        "        self.val_loss = np.zeros(self.iter)\n",
        "        \n",
        "    def fit(self, X, y, X_val=None, y_val=None):\n",
        "        \"\"\"\n",
        "        Learn linear regression. If validation data is entered, \n",
        "        the loss and accuracy for it are also calculated for each iteration.\n",
        "        Parameters\n",
        "        ----------\n",
        "        X : ndarray, shape (n_samples, n_features)\n",
        "            Features of training data\n",
        "        y : ndarray, shape (n_samples,)\n",
        "            Correct answer value of training data\n",
        "        X_val : ndarray, shape (n_samples, n_features)\n",
        "            Features of verification data\n",
        "        y_val : ndarray, shape (n_samples,)\n",
        "            Correct value of verification data\n",
        "        \"\"\"\n",
        "        n_samples = X.shape[0]\n",
        "        n_features = X.shape[1]\n",
        "        \n",
        "        if not self.no_bias:\n",
        "            # Append bias column to X\n",
        "            X = np.hstack([np.ones([n_samples, 1]), X])\n",
        "        \n",
        "        # Prepare theta for hypotheis function\n",
        "        self.theta = np.random.rand(n_features + (1 - self.no_bias))\n",
        "        \n",
        "        for i in range(self.iter):\n",
        "            y_hyp = self._linear_hypothesis(X)\n",
        "            self.theta = self._gradient_descent(X, y, y_hyp)\n",
        "            self.loss[i] = self._loss_function(y_hyp, y)\n",
        "            \n",
        "            if X_val is not None and y_val is not None:\n",
        "                y_predict = self.predict(X_val)\n",
        "                self.val_loss[i] = self._loss_function(y_predict, y_val)\n",
        "                \n",
        "        if self.verbose:\n",
        "            #Output learning process when verbose is set to True\n",
        "            print(\"Loss: {}\".format(self.loss))\n",
        "            print(\"Val_loss: {}\".format(self.val_loss))\n",
        "        pass\n",
        "        \n",
        "    def predict(self, X):\n",
        "        \"\"\"\n",
        "        Estimate using linear regression.\n",
        "        Parameters\n",
        "        ----------\n",
        "        X : The following forms of ndarray, shape (n_samples, n_features)\n",
        "            sample\n",
        "        Returns\n",
        "        -------\n",
        "            ndarray, shape (n_samples, 1)\n",
        "            Estimated result by linear regression\n",
        "        \"\"\"\n",
        "        if not self.no_bias:\n",
        "            n_samples = X.shape[0]\n",
        "            X = np.hstack([np.ones([n_samples, 1]), X])\n",
        "        return np.dot(X, self.theta.T)\n",
        "    \n",
        "    def _linear_hypothesis(self, X):\n",
        "        \"\"\"\n",
        "        Compute a linear hypothetical function\n",
        "        Parameters\n",
        "        ----------\n",
        "        X : The following forms of ndarray, shape (n_samples, n_features)\n",
        "          Training data\n",
        "        Returns\n",
        "        -------\n",
        "          ndarray, shape (n_samples, 1)\n",
        "          Estimated result by linear hypothetical function\n",
        "        \"\"\"\n",
        "        y_hyp = np.dot(X, self.theta.T)\n",
        "        return y_hyp\n",
        "    \n",
        "    def _gradient_descent(self, X, y, y_hyp):\n",
        "        \"\"\"\n",
        "        Update new theta j in the steepest decent method\n",
        "        Parameters\n",
        "        ----------\n",
        "        X: ndarray, shape (n_samples, n_features)\n",
        "            Training data\n",
        "        y: ndarray, shape (n_samples,)\n",
        "            Correct answer value of training data\n",
        "        y_hyp: ndarray, shape (n_samples, 1)\n",
        "        Returns\n",
        "        -------\n",
        "        update_theta: ndarray, shape (n_features, 1)\n",
        "          New theta value\n",
        "        \"\"\"\n",
        "        n_samples = X.shape[0]\n",
        "        update_theta = self.theta - (self.lr * np.dot((y_hyp - y), X) / n_samples)\n",
        "        return update_theta\n",
        "    \n",
        "    def _loss_function(self, y_pred, y):\n",
        "        \"\"\"\n",
        "        Calculation of objective function.\n",
        "        Parameters\n",
        "        ----------\n",
        "        y_pred : The following forms of ndarray, shape (n_samples,)\n",
        "          Estimated value\n",
        "        y : The following forms of ndarray, shape (n_samples,)\n",
        "          Correct answer value\n",
        "        Returns\n",
        "        ----------\n",
        "        loss: numpy.float\n",
        "          Result of the loss function\n",
        "        \"\"\"\n",
        "        loss = np.mean((y_pred - y) ** 2)\n",
        "        return loss\n",
        "        \n",
        "\n",
        "def MSE(y_pred, y):\n",
        "    \"\"\"\n",
        "    Calculation of mean square error\n",
        "    Parameters\n",
        "    ----------\n",
        "    y_pred : The following forms of ndarray, shape (n_samples,)\n",
        "      Estimated value\n",
        "    y : The following forms of ndarray, shape (n_samples,)\n",
        "      Correct answer value\n",
        "    Returns\n",
        "    ----------\n",
        "    mse : numpy.float\n",
        "      Mean squared error\n",
        "    \"\"\"\n",
        "    n_samples = y.shape[0]\n",
        "    mse = np.mean((y_pred - y)[1:] ** 2)\n",
        "    return mse"
      ]
    },
    {
      "cell_type": "markdown",
      "metadata": {
        "id": "uUDNLF81WPLQ"
      },
      "source": [
        "### 【problem1】Hypothetical function\n",
        "\n",
        "---\n",
        "\n",
        "- It is implemented in **def _linear_hypothesis(self, X)**\n",
        "\n"
      ]
    },
    {
      "cell_type": "markdown",
      "metadata": {
        "id": "TfLXECiOWfHj"
      },
      "source": [
        "### 【problem2】Steepest descent\n",
        "\n",
        "---\n",
        "\n",
        "- It is implemented in **def _gradient_descent(self, X, y, y_hyp)**"
      ]
    },
    {
      "cell_type": "markdown",
      "metadata": {
        "id": "rKUb_UoQWsWl"
      },
      "source": [
        "### 【problem 3】Estimated\n",
        "\n",
        "---\n",
        "\n",
        "- It is implemented in **def fit(self, X, y, X_val=None, y_val=None), def predict(self, X)**"
      ]
    },
    {
      "cell_type": "markdown",
      "metadata": {
        "id": "5KsKROTHZAMB"
      },
      "source": [
        "### 【problem 4】Mean squared error\n",
        "\n",
        "---\n",
        "\n",
        "- It is implemented in **def MSE(y_pred, y)** (outside the class)"
      ]
    },
    {
      "cell_type": "markdown",
      "metadata": {
        "id": "xpFexIieZrWu"
      },
      "source": [
        "### 【problem 5】Objective function\n",
        "\n",
        "---\n",
        "\n",
        "It is implemented in **def _loss_function(self, y_pred, y)**"
      ]
    },
    {
      "cell_type": "markdown",
      "metadata": {
        "id": "BsUlHLWAcYVC"
      },
      "source": [
        "### **Let's test our Scratch Linear Regression which has just been constructed.**"
      ]
    },
    {
      "cell_type": "code",
      "execution_count": null,
      "metadata": {
        "colab": {
          "base_uri": "https://localhost:8080/"
        },
        "id": "O5iwpjdvc4sI",
        "outputId": "d8409804-53f1-46b5-8be6-e6b9673308d8"
      },
      "outputs": [
        {
          "output_type": "execute_result",
          "data": {
            "text/plain": [
              "(5, 2)"
            ]
          },
          "metadata": {},
          "execution_count": 3
        }
      ],
      "source": [
        "X = np.array([\n",
        "    [1, 2],\n",
        "    [3, 4],\n",
        "    [5, 6],\n",
        "    [7, 8],\n",
        "    [9, 10]\n",
        "])\n",
        "X.shape\n"
      ]
    },
    {
      "cell_type": "code",
      "execution_count": null,
      "metadata": {
        "colab": {
          "base_uri": "https://localhost:8080/"
        },
        "id": "sYuBZXh5dE-N",
        "outputId": "791991d7-6118-4d45-b6d9-54cd98b90c98"
      },
      "outputs": [
        {
          "output_type": "execute_result",
          "data": {
            "text/plain": [
              "(5,)"
            ]
          },
          "metadata": {},
          "execution_count": 4
        }
      ],
      "source": [
        "# Let y = 2x1 + 1x2\n",
        "y = np.array([4, 10, 16, 22, 28])\n",
        "y.shape"
      ]
    },
    {
      "cell_type": "code",
      "execution_count": null,
      "metadata": {
        "id": "VmDSL2FvdLSR"
      },
      "outputs": [],
      "source": [
        "slr = ScratchLinearRegression(100, 0.01, False, True)"
      ]
    },
    {
      "cell_type": "code",
      "execution_count": null,
      "metadata": {
        "colab": {
          "base_uri": "https://localhost:8080/"
        },
        "id": "iTX0awoedTYl",
        "outputId": "a61951b8-1a45-46be-a12a-23bf9d6b7b3a"
      },
      "outputs": [
        {
          "output_type": "stream",
          "name": "stdout",
          "text": [
            "Loss: [144.05051148   7.57052962   0.77561289   0.43497789   0.41557975\n",
            "   0.41218425   0.40960018   0.40707139   0.40456016   0.40206451\n",
            "   0.39958427   0.39711932   0.39466959   0.39223496   0.38981535\n",
            "   0.38741067   0.38502082   0.38264571   0.38028526   0.37793937\n",
            "   0.37560795   0.37329091   0.37098816   0.36869962   0.36642519\n",
            "   0.3641648    0.36191835   0.35968576   0.35746694   0.35526181\n",
            "   0.35307028   0.35089227   0.34872769   0.34657647   0.34443852\n",
            "   0.34231376   0.3402021    0.33810347   0.33601779   0.33394497\n",
            "   0.33188494   0.32983762   0.32780293   0.32578078   0.32377112\n",
            "   0.32177385   0.3197889    0.31781619   0.31585566   0.31390721\n",
            "   0.31197079   0.31004632   0.30813371   0.3062329    0.30434382\n",
            "   0.3024664    0.30060055   0.29874621   0.29690332   0.29507179\n",
            "   0.29325156   0.29144255   0.28964471   0.28785796   0.28608223\n",
            "   0.28431745   0.28256356   0.28082049   0.27908817   0.27736654\n",
            "   0.27565553   0.27395508   0.27226511   0.27058557   0.26891639\n",
            "   0.2672575    0.26560885   0.26397037   0.262342     0.26072367\n",
            "   0.25911533   0.2575169    0.25592834   0.25434958   0.25278055\n",
            "   0.25122121   0.24967148   0.24813131   0.24660065   0.24507942\n",
            "   0.24356759   0.24206507   0.24057183   0.2390878    0.23761292\n",
            "   0.23614714   0.2346904    0.23324265   0.23180383   0.23037388]\n",
            "Val_loss: [0. 0. 0. 0. 0. 0. 0. 0. 0. 0. 0. 0. 0. 0. 0. 0. 0. 0. 0. 0. 0. 0. 0. 0.\n",
            " 0. 0. 0. 0. 0. 0. 0. 0. 0. 0. 0. 0. 0. 0. 0. 0. 0. 0. 0. 0. 0. 0. 0. 0.\n",
            " 0. 0. 0. 0. 0. 0. 0. 0. 0. 0. 0. 0. 0. 0. 0. 0. 0. 0. 0. 0. 0. 0. 0. 0.\n",
            " 0. 0. 0. 0. 0. 0. 0. 0. 0. 0. 0. 0. 0. 0. 0. 0. 0. 0. 0. 0. 0. 0. 0. 0.\n",
            " 0. 0. 0. 0.]\n"
          ]
        }
      ],
      "source": [
        "theta = slr.fit(X, y)"
      ]
    },
    {
      "cell_type": "code",
      "execution_count": null,
      "metadata": {
        "colab": {
          "base_uri": "https://localhost:8080/"
        },
        "id": "eleYU90FdbbS",
        "outputId": "c4fddef9-2b6e-464e-dcbc-f2c4299866c1"
      },
      "outputs": [
        {
          "output_type": "execute_result",
          "data": {
            "text/plain": [
              "array([ 4.81966328, 10.5175647 , 16.21546611, 21.91336752, 27.61126893])"
            ]
          },
          "metadata": {},
          "execution_count": 7
        }
      ],
      "source": [
        "slr_predict = slr.predict(X)\n",
        "slr_predict"
      ]
    },
    {
      "cell_type": "code",
      "execution_count": null,
      "metadata": {
        "colab": {
          "base_uri": "https://localhost:8080/"
        },
        "id": "6RWs1DFzddDR",
        "outputId": "d9036d7e-0b2f-4443-c604-897f67a4231a"
      },
      "outputs": [
        {
          "output_type": "execute_result",
          "data": {
            "text/plain": [
              "0.11822897203193475"
            ]
          },
          "metadata": {},
          "execution_count": 8
        }
      ],
      "source": [
        "MSE(y, slr_predict)"
      ]
    },
    {
      "cell_type": "markdown",
      "metadata": {
        "id": "9lTjj-gLdgyL"
      },
      "source": [
        "> # **Verification**\n",
        "---\n",
        "\n",
        "\n",
        "### Problem 6 Learning and Estimation\n",
        "\n",
        "---\n",
        "\n"
      ]
    },
    {
      "cell_type": "code",
      "execution_count": null,
      "metadata": {
        "id": "e_HsCHCyd9m0",
        "colab": {
          "base_uri": "https://localhost:8080/",
          "height": 300
        },
        "outputId": "5a146429-49e4-48b2-d3dd-ebb7634920ea"
      },
      "outputs": [
        {
          "output_type": "execute_result",
          "data": {
            "text/plain": [
              "   Id  MSSubClass MSZoning  LotFrontage  LotArea Street Alley LotShape  \\\n",
              "0   1          60       RL         65.0     8450   Pave   NaN      Reg   \n",
              "1   2          20       RL         80.0     9600   Pave   NaN      Reg   \n",
              "2   3          60       RL         68.0    11250   Pave   NaN      IR1   \n",
              "3   4          70       RL         60.0     9550   Pave   NaN      IR1   \n",
              "4   5          60       RL         84.0    14260   Pave   NaN      IR1   \n",
              "\n",
              "  LandContour Utilities  ... PoolArea PoolQC Fence MiscFeature MiscVal MoSold  \\\n",
              "0         Lvl    AllPub  ...        0    NaN   NaN         NaN       0      2   \n",
              "1         Lvl    AllPub  ...        0    NaN   NaN         NaN       0      5   \n",
              "2         Lvl    AllPub  ...        0    NaN   NaN         NaN       0      9   \n",
              "3         Lvl    AllPub  ...        0    NaN   NaN         NaN       0      2   \n",
              "4         Lvl    AllPub  ...        0    NaN   NaN         NaN       0     12   \n",
              "\n",
              "  YrSold  SaleType  SaleCondition  SalePrice  \n",
              "0   2008        WD         Normal     208500  \n",
              "1   2007        WD         Normal     181500  \n",
              "2   2008        WD         Normal     223500  \n",
              "3   2006        WD        Abnorml     140000  \n",
              "4   2008        WD         Normal     250000  \n",
              "\n",
              "[5 rows x 81 columns]"
            ],
            "text/html": [
              "\n",
              "  <div id=\"df-696411fd-bfb9-420d-b728-505532c54ece\">\n",
              "    <div class=\"colab-df-container\">\n",
              "      <div>\n",
              "<style scoped>\n",
              "    .dataframe tbody tr th:only-of-type {\n",
              "        vertical-align: middle;\n",
              "    }\n",
              "\n",
              "    .dataframe tbody tr th {\n",
              "        vertical-align: top;\n",
              "    }\n",
              "\n",
              "    .dataframe thead th {\n",
              "        text-align: right;\n",
              "    }\n",
              "</style>\n",
              "<table border=\"1\" class=\"dataframe\">\n",
              "  <thead>\n",
              "    <tr style=\"text-align: right;\">\n",
              "      <th></th>\n",
              "      <th>Id</th>\n",
              "      <th>MSSubClass</th>\n",
              "      <th>MSZoning</th>\n",
              "      <th>LotFrontage</th>\n",
              "      <th>LotArea</th>\n",
              "      <th>Street</th>\n",
              "      <th>Alley</th>\n",
              "      <th>LotShape</th>\n",
              "      <th>LandContour</th>\n",
              "      <th>Utilities</th>\n",
              "      <th>...</th>\n",
              "      <th>PoolArea</th>\n",
              "      <th>PoolQC</th>\n",
              "      <th>Fence</th>\n",
              "      <th>MiscFeature</th>\n",
              "      <th>MiscVal</th>\n",
              "      <th>MoSold</th>\n",
              "      <th>YrSold</th>\n",
              "      <th>SaleType</th>\n",
              "      <th>SaleCondition</th>\n",
              "      <th>SalePrice</th>\n",
              "    </tr>\n",
              "  </thead>\n",
              "  <tbody>\n",
              "    <tr>\n",
              "      <th>0</th>\n",
              "      <td>1</td>\n",
              "      <td>60</td>\n",
              "      <td>RL</td>\n",
              "      <td>65.0</td>\n",
              "      <td>8450</td>\n",
              "      <td>Pave</td>\n",
              "      <td>NaN</td>\n",
              "      <td>Reg</td>\n",
              "      <td>Lvl</td>\n",
              "      <td>AllPub</td>\n",
              "      <td>...</td>\n",
              "      <td>0</td>\n",
              "      <td>NaN</td>\n",
              "      <td>NaN</td>\n",
              "      <td>NaN</td>\n",
              "      <td>0</td>\n",
              "      <td>2</td>\n",
              "      <td>2008</td>\n",
              "      <td>WD</td>\n",
              "      <td>Normal</td>\n",
              "      <td>208500</td>\n",
              "    </tr>\n",
              "    <tr>\n",
              "      <th>1</th>\n",
              "      <td>2</td>\n",
              "      <td>20</td>\n",
              "      <td>RL</td>\n",
              "      <td>80.0</td>\n",
              "      <td>9600</td>\n",
              "      <td>Pave</td>\n",
              "      <td>NaN</td>\n",
              "      <td>Reg</td>\n",
              "      <td>Lvl</td>\n",
              "      <td>AllPub</td>\n",
              "      <td>...</td>\n",
              "      <td>0</td>\n",
              "      <td>NaN</td>\n",
              "      <td>NaN</td>\n",
              "      <td>NaN</td>\n",
              "      <td>0</td>\n",
              "      <td>5</td>\n",
              "      <td>2007</td>\n",
              "      <td>WD</td>\n",
              "      <td>Normal</td>\n",
              "      <td>181500</td>\n",
              "    </tr>\n",
              "    <tr>\n",
              "      <th>2</th>\n",
              "      <td>3</td>\n",
              "      <td>60</td>\n",
              "      <td>RL</td>\n",
              "      <td>68.0</td>\n",
              "      <td>11250</td>\n",
              "      <td>Pave</td>\n",
              "      <td>NaN</td>\n",
              "      <td>IR1</td>\n",
              "      <td>Lvl</td>\n",
              "      <td>AllPub</td>\n",
              "      <td>...</td>\n",
              "      <td>0</td>\n",
              "      <td>NaN</td>\n",
              "      <td>NaN</td>\n",
              "      <td>NaN</td>\n",
              "      <td>0</td>\n",
              "      <td>9</td>\n",
              "      <td>2008</td>\n",
              "      <td>WD</td>\n",
              "      <td>Normal</td>\n",
              "      <td>223500</td>\n",
              "    </tr>\n",
              "    <tr>\n",
              "      <th>3</th>\n",
              "      <td>4</td>\n",
              "      <td>70</td>\n",
              "      <td>RL</td>\n",
              "      <td>60.0</td>\n",
              "      <td>9550</td>\n",
              "      <td>Pave</td>\n",
              "      <td>NaN</td>\n",
              "      <td>IR1</td>\n",
              "      <td>Lvl</td>\n",
              "      <td>AllPub</td>\n",
              "      <td>...</td>\n",
              "      <td>0</td>\n",
              "      <td>NaN</td>\n",
              "      <td>NaN</td>\n",
              "      <td>NaN</td>\n",
              "      <td>0</td>\n",
              "      <td>2</td>\n",
              "      <td>2006</td>\n",
              "      <td>WD</td>\n",
              "      <td>Abnorml</td>\n",
              "      <td>140000</td>\n",
              "    </tr>\n",
              "    <tr>\n",
              "      <th>4</th>\n",
              "      <td>5</td>\n",
              "      <td>60</td>\n",
              "      <td>RL</td>\n",
              "      <td>84.0</td>\n",
              "      <td>14260</td>\n",
              "      <td>Pave</td>\n",
              "      <td>NaN</td>\n",
              "      <td>IR1</td>\n",
              "      <td>Lvl</td>\n",
              "      <td>AllPub</td>\n",
              "      <td>...</td>\n",
              "      <td>0</td>\n",
              "      <td>NaN</td>\n",
              "      <td>NaN</td>\n",
              "      <td>NaN</td>\n",
              "      <td>0</td>\n",
              "      <td>12</td>\n",
              "      <td>2008</td>\n",
              "      <td>WD</td>\n",
              "      <td>Normal</td>\n",
              "      <td>250000</td>\n",
              "    </tr>\n",
              "  </tbody>\n",
              "</table>\n",
              "<p>5 rows × 81 columns</p>\n",
              "</div>\n",
              "      <button class=\"colab-df-convert\" onclick=\"convertToInteractive('df-696411fd-bfb9-420d-b728-505532c54ece')\"\n",
              "              title=\"Convert this dataframe to an interactive table.\"\n",
              "              style=\"display:none;\">\n",
              "        \n",
              "  <svg xmlns=\"http://www.w3.org/2000/svg\" height=\"24px\"viewBox=\"0 0 24 24\"\n",
              "       width=\"24px\">\n",
              "    <path d=\"M0 0h24v24H0V0z\" fill=\"none\"/>\n",
              "    <path d=\"M18.56 5.44l.94 2.06.94-2.06 2.06-.94-2.06-.94-.94-2.06-.94 2.06-2.06.94zm-11 1L8.5 8.5l.94-2.06 2.06-.94-2.06-.94L8.5 2.5l-.94 2.06-2.06.94zm10 10l.94 2.06.94-2.06 2.06-.94-2.06-.94-.94-2.06-.94 2.06-2.06.94z\"/><path d=\"M17.41 7.96l-1.37-1.37c-.4-.4-.92-.59-1.43-.59-.52 0-1.04.2-1.43.59L10.3 9.45l-7.72 7.72c-.78.78-.78 2.05 0 2.83L4 21.41c.39.39.9.59 1.41.59.51 0 1.02-.2 1.41-.59l7.78-7.78 2.81-2.81c.8-.78.8-2.07 0-2.86zM5.41 20L4 18.59l7.72-7.72 1.47 1.35L5.41 20z\"/>\n",
              "  </svg>\n",
              "      </button>\n",
              "      \n",
              "  <style>\n",
              "    .colab-df-container {\n",
              "      display:flex;\n",
              "      flex-wrap:wrap;\n",
              "      gap: 12px;\n",
              "    }\n",
              "\n",
              "    .colab-df-convert {\n",
              "      background-color: #E8F0FE;\n",
              "      border: none;\n",
              "      border-radius: 50%;\n",
              "      cursor: pointer;\n",
              "      display: none;\n",
              "      fill: #1967D2;\n",
              "      height: 32px;\n",
              "      padding: 0 0 0 0;\n",
              "      width: 32px;\n",
              "    }\n",
              "\n",
              "    .colab-df-convert:hover {\n",
              "      background-color: #E2EBFA;\n",
              "      box-shadow: 0px 1px 2px rgba(60, 64, 67, 0.3), 0px 1px 3px 1px rgba(60, 64, 67, 0.15);\n",
              "      fill: #174EA6;\n",
              "    }\n",
              "\n",
              "    [theme=dark] .colab-df-convert {\n",
              "      background-color: #3B4455;\n",
              "      fill: #D2E3FC;\n",
              "    }\n",
              "\n",
              "    [theme=dark] .colab-df-convert:hover {\n",
              "      background-color: #434B5C;\n",
              "      box-shadow: 0px 1px 3px 1px rgba(0, 0, 0, 0.15);\n",
              "      filter: drop-shadow(0px 1px 2px rgba(0, 0, 0, 0.3));\n",
              "      fill: #FFFFFF;\n",
              "    }\n",
              "  </style>\n",
              "\n",
              "      <script>\n",
              "        const buttonEl =\n",
              "          document.querySelector('#df-696411fd-bfb9-420d-b728-505532c54ece button.colab-df-convert');\n",
              "        buttonEl.style.display =\n",
              "          google.colab.kernel.accessAllowed ? 'block' : 'none';\n",
              "\n",
              "        async function convertToInteractive(key) {\n",
              "          const element = document.querySelector('#df-696411fd-bfb9-420d-b728-505532c54ece');\n",
              "          const dataTable =\n",
              "            await google.colab.kernel.invokeFunction('convertToInteractive',\n",
              "                                                     [key], {});\n",
              "          if (!dataTable) return;\n",
              "\n",
              "          const docLinkHtml = 'Like what you see? Visit the ' +\n",
              "            '<a target=\"_blank\" href=https://colab.research.google.com/notebooks/data_table.ipynb>data table notebook</a>'\n",
              "            + ' to learn more about interactive tables.';\n",
              "          element.innerHTML = '';\n",
              "          dataTable['output_type'] = 'display_data';\n",
              "          await google.colab.output.renderOutput(dataTable, element);\n",
              "          const docLink = document.createElement('div');\n",
              "          docLink.innerHTML = docLinkHtml;\n",
              "          element.appendChild(docLink);\n",
              "        }\n",
              "      </script>\n",
              "    </div>\n",
              "  </div>\n",
              "  "
            ]
          },
          "metadata": {},
          "execution_count": 9
        }
      ],
      "source": [
        "df = pd.read_csv('train.csv')\n",
        "df.head()"
      ]
    },
    {
      "cell_type": "code",
      "source": [
        "X = df[['GrLivArea']].values\n",
        "y = df['SalePrice'].values"
      ],
      "metadata": {
        "id": "rUyfafWEZ09s"
      },
      "execution_count": null,
      "outputs": []
    },
    {
      "cell_type": "code",
      "source": [
        "from sklearn.model_selection import train_test_split\n",
        "X_train, X_test, y_train, y_test = train_test_split(X, y)\n",
        "print(X_train.shape, X_test.shape, y_train.shape, y_test.shape)"
      ],
      "metadata": {
        "colab": {
          "base_uri": "https://localhost:8080/"
        },
        "id": "K64jKEbwaKpM",
        "outputId": "b90ab33a-054b-4817-e4f2-cb86c6ea2d75"
      },
      "execution_count": null,
      "outputs": [
        {
          "output_type": "stream",
          "name": "stdout",
          "text": [
            "(1095, 1) (365, 1) (1095,) (365,)\n"
          ]
        }
      ]
    },
    {
      "cell_type": "code",
      "source": [
        "X[:5]"
      ],
      "metadata": {
        "colab": {
          "base_uri": "https://localhost:8080/"
        },
        "id": "H-PTV39XaXiV",
        "outputId": "e5012501-f784-426d-dae0-23f953e28e54"
      },
      "execution_count": null,
      "outputs": [
        {
          "output_type": "execute_result",
          "data": {
            "text/plain": [
              "array([[1710],\n",
              "       [1262],\n",
              "       [1786],\n",
              "       [1717],\n",
              "       [2198]])"
            ]
          },
          "metadata": {},
          "execution_count": 12
        }
      ]
    },
    {
      "cell_type": "code",
      "source": [
        "y[:5]"
      ],
      "metadata": {
        "colab": {
          "base_uri": "https://localhost:8080/"
        },
        "id": "7iS7CCLlami0",
        "outputId": "5f2c8d27-58be-491b-c605-630bcbaa1348"
      },
      "execution_count": null,
      "outputs": [
        {
          "output_type": "execute_result",
          "data": {
            "text/plain": [
              "array([208500, 181500, 223500, 140000, 250000])"
            ]
          },
          "metadata": {},
          "execution_count": 13
        }
      ]
    },
    {
      "cell_type": "code",
      "source": [
        "from sklearn.preprocessing import StandardScaler\n",
        "\n",
        "scaler = StandardScaler()\n",
        "scaler.fit(X_train)\n",
        "\n",
        "X_train_scaled = scaler.transform(X_train)\n",
        "X_test_scaled = scaler.transform(X_test)"
      ],
      "metadata": {
        "id": "su0wJs0QaoJ-"
      },
      "execution_count": null,
      "outputs": []
    },
    {
      "cell_type": "code",
      "source": [
        "slr_house = ScratchLinearRegression()\n",
        "slr_house.fit(X_train_scaled, y_train, X_test_scaled, y_test)\n",
        "y_house_predict = slr_house.predict(X_test_scaled)\n",
        "\n",
        "pd.DataFrame([y_house_predict, y_test])"
      ],
      "metadata": {
        "colab": {
          "base_uri": "https://localhost:8080/",
          "height": 205
        },
        "id": "PcyMISviavf5",
        "outputId": "540497f9-77a0-4ccf-c5e0-3f658594cf97"
      },
      "execution_count": null,
      "outputs": [
        {
          "output_type": "execute_result",
          "data": {
            "text/plain": [
              "             0              1             2              3              4    \\\n",
              "0  155364.252328  117307.845603  167249.73671  127364.793927  288733.101119   \n",
              "1  127000.000000  139000.000000  135000.00000  124000.000000  309000.000000   \n",
              "\n",
              "             5              6              7              8              9    \\\n",
              "0  125764.824876  198220.566207  141535.948383  311818.368861  206448.978471   \n",
              "1  156000.000000  290000.000000  140000.000000  250000.000000  178000.000000   \n",
              "\n",
              "   ...            355            356            357            358  \\\n",
              "0  ...  119822.082684  296618.662872  250676.694394  181878.025181   \n",
              "1  ...   93500.000000  151400.000000  158000.000000  115000.000000   \n",
              "\n",
              "            359            360           361            362            363  \\\n",
              "0  310218.39981  245419.653225  191477.83949  145535.871012  336732.172663   \n",
              "1  265979.00000  210000.000000  140000.00000  153900.000000  272000.000000   \n",
              "\n",
              "             364  \n",
              "0  216505.926795  \n",
              "1  201800.000000  \n",
              "\n",
              "[2 rows x 365 columns]"
            ],
            "text/html": [
              "\n",
              "  <div id=\"df-70b1cad8-e2f7-4892-94e1-1fe8cb2d9a94\">\n",
              "    <div class=\"colab-df-container\">\n",
              "      <div>\n",
              "<style scoped>\n",
              "    .dataframe tbody tr th:only-of-type {\n",
              "        vertical-align: middle;\n",
              "    }\n",
              "\n",
              "    .dataframe tbody tr th {\n",
              "        vertical-align: top;\n",
              "    }\n",
              "\n",
              "    .dataframe thead th {\n",
              "        text-align: right;\n",
              "    }\n",
              "</style>\n",
              "<table border=\"1\" class=\"dataframe\">\n",
              "  <thead>\n",
              "    <tr style=\"text-align: right;\">\n",
              "      <th></th>\n",
              "      <th>0</th>\n",
              "      <th>1</th>\n",
              "      <th>2</th>\n",
              "      <th>3</th>\n",
              "      <th>4</th>\n",
              "      <th>5</th>\n",
              "      <th>6</th>\n",
              "      <th>7</th>\n",
              "      <th>8</th>\n",
              "      <th>9</th>\n",
              "      <th>...</th>\n",
              "      <th>355</th>\n",
              "      <th>356</th>\n",
              "      <th>357</th>\n",
              "      <th>358</th>\n",
              "      <th>359</th>\n",
              "      <th>360</th>\n",
              "      <th>361</th>\n",
              "      <th>362</th>\n",
              "      <th>363</th>\n",
              "      <th>364</th>\n",
              "    </tr>\n",
              "  </thead>\n",
              "  <tbody>\n",
              "    <tr>\n",
              "      <th>0</th>\n",
              "      <td>155364.252328</td>\n",
              "      <td>117307.845603</td>\n",
              "      <td>167249.73671</td>\n",
              "      <td>127364.793927</td>\n",
              "      <td>288733.101119</td>\n",
              "      <td>125764.824876</td>\n",
              "      <td>198220.566207</td>\n",
              "      <td>141535.948383</td>\n",
              "      <td>311818.368861</td>\n",
              "      <td>206448.978471</td>\n",
              "      <td>...</td>\n",
              "      <td>119822.082684</td>\n",
              "      <td>296618.662872</td>\n",
              "      <td>250676.694394</td>\n",
              "      <td>181878.025181</td>\n",
              "      <td>310218.39981</td>\n",
              "      <td>245419.653225</td>\n",
              "      <td>191477.83949</td>\n",
              "      <td>145535.871012</td>\n",
              "      <td>336732.172663</td>\n",
              "      <td>216505.926795</td>\n",
              "    </tr>\n",
              "    <tr>\n",
              "      <th>1</th>\n",
              "      <td>127000.000000</td>\n",
              "      <td>139000.000000</td>\n",
              "      <td>135000.00000</td>\n",
              "      <td>124000.000000</td>\n",
              "      <td>309000.000000</td>\n",
              "      <td>156000.000000</td>\n",
              "      <td>290000.000000</td>\n",
              "      <td>140000.000000</td>\n",
              "      <td>250000.000000</td>\n",
              "      <td>178000.000000</td>\n",
              "      <td>...</td>\n",
              "      <td>93500.000000</td>\n",
              "      <td>151400.000000</td>\n",
              "      <td>158000.000000</td>\n",
              "      <td>115000.000000</td>\n",
              "      <td>265979.00000</td>\n",
              "      <td>210000.000000</td>\n",
              "      <td>140000.00000</td>\n",
              "      <td>153900.000000</td>\n",
              "      <td>272000.000000</td>\n",
              "      <td>201800.000000</td>\n",
              "    </tr>\n",
              "  </tbody>\n",
              "</table>\n",
              "<p>2 rows × 365 columns</p>\n",
              "</div>\n",
              "      <button class=\"colab-df-convert\" onclick=\"convertToInteractive('df-70b1cad8-e2f7-4892-94e1-1fe8cb2d9a94')\"\n",
              "              title=\"Convert this dataframe to an interactive table.\"\n",
              "              style=\"display:none;\">\n",
              "        \n",
              "  <svg xmlns=\"http://www.w3.org/2000/svg\" height=\"24px\"viewBox=\"0 0 24 24\"\n",
              "       width=\"24px\">\n",
              "    <path d=\"M0 0h24v24H0V0z\" fill=\"none\"/>\n",
              "    <path d=\"M18.56 5.44l.94 2.06.94-2.06 2.06-.94-2.06-.94-.94-2.06-.94 2.06-2.06.94zm-11 1L8.5 8.5l.94-2.06 2.06-.94-2.06-.94L8.5 2.5l-.94 2.06-2.06.94zm10 10l.94 2.06.94-2.06 2.06-.94-2.06-.94-.94-2.06-.94 2.06-2.06.94z\"/><path d=\"M17.41 7.96l-1.37-1.37c-.4-.4-.92-.59-1.43-.59-.52 0-1.04.2-1.43.59L10.3 9.45l-7.72 7.72c-.78.78-.78 2.05 0 2.83L4 21.41c.39.39.9.59 1.41.59.51 0 1.02-.2 1.41-.59l7.78-7.78 2.81-2.81c.8-.78.8-2.07 0-2.86zM5.41 20L4 18.59l7.72-7.72 1.47 1.35L5.41 20z\"/>\n",
              "  </svg>\n",
              "      </button>\n",
              "      \n",
              "  <style>\n",
              "    .colab-df-container {\n",
              "      display:flex;\n",
              "      flex-wrap:wrap;\n",
              "      gap: 12px;\n",
              "    }\n",
              "\n",
              "    .colab-df-convert {\n",
              "      background-color: #E8F0FE;\n",
              "      border: none;\n",
              "      border-radius: 50%;\n",
              "      cursor: pointer;\n",
              "      display: none;\n",
              "      fill: #1967D2;\n",
              "      height: 32px;\n",
              "      padding: 0 0 0 0;\n",
              "      width: 32px;\n",
              "    }\n",
              "\n",
              "    .colab-df-convert:hover {\n",
              "      background-color: #E2EBFA;\n",
              "      box-shadow: 0px 1px 2px rgba(60, 64, 67, 0.3), 0px 1px 3px 1px rgba(60, 64, 67, 0.15);\n",
              "      fill: #174EA6;\n",
              "    }\n",
              "\n",
              "    [theme=dark] .colab-df-convert {\n",
              "      background-color: #3B4455;\n",
              "      fill: #D2E3FC;\n",
              "    }\n",
              "\n",
              "    [theme=dark] .colab-df-convert:hover {\n",
              "      background-color: #434B5C;\n",
              "      box-shadow: 0px 1px 3px 1px rgba(0, 0, 0, 0.15);\n",
              "      filter: drop-shadow(0px 1px 2px rgba(0, 0, 0, 0.3));\n",
              "      fill: #FFFFFF;\n",
              "    }\n",
              "  </style>\n",
              "\n",
              "      <script>\n",
              "        const buttonEl =\n",
              "          document.querySelector('#df-70b1cad8-e2f7-4892-94e1-1fe8cb2d9a94 button.colab-df-convert');\n",
              "        buttonEl.style.display =\n",
              "          google.colab.kernel.accessAllowed ? 'block' : 'none';\n",
              "\n",
              "        async function convertToInteractive(key) {\n",
              "          const element = document.querySelector('#df-70b1cad8-e2f7-4892-94e1-1fe8cb2d9a94');\n",
              "          const dataTable =\n",
              "            await google.colab.kernel.invokeFunction('convertToInteractive',\n",
              "                                                     [key], {});\n",
              "          if (!dataTable) return;\n",
              "\n",
              "          const docLinkHtml = 'Like what you see? Visit the ' +\n",
              "            '<a target=\"_blank\" href=https://colab.research.google.com/notebooks/data_table.ipynb>data table notebook</a>'\n",
              "            + ' to learn more about interactive tables.';\n",
              "          element.innerHTML = '';\n",
              "          dataTable['output_type'] = 'display_data';\n",
              "          await google.colab.output.renderOutput(dataTable, element);\n",
              "          const docLink = document.createElement('div');\n",
              "          docLink.innerHTML = docLinkHtml;\n",
              "          element.appendChild(docLink);\n",
              "        }\n",
              "      </script>\n",
              "    </div>\n",
              "  </div>\n",
              "  "
            ]
          },
          "metadata": {},
          "execution_count": 15
        }
      ]
    },
    {
      "cell_type": "code",
      "source": [
        "MSE(y_house_predict, y_test)"
      ],
      "metadata": {
        "colab": {
          "base_uri": "https://localhost:8080/"
        },
        "id": "LuHfn1xsbG_d",
        "outputId": "d7b5b450-d1f1-4556-bf64-cb38f0ff815b"
      },
      "execution_count": null,
      "outputs": [
        {
          "output_type": "execute_result",
          "data": {
            "text/plain": [
              "3370315971.221346"
            ]
          },
          "metadata": {},
          "execution_count": 16
        }
      ]
    },
    {
      "cell_type": "code",
      "source": [
        "import matplotlib.pyplot as plt\n",
        "%matplotlib inline\n",
        "\n",
        "plt.title('Predict with Scratch Linear Regression')\n",
        "plt.xlabel('GrLivArea')\n",
        "plt.ylabel('SalePrice')\n",
        "plt.scatter(X_test, y_test, label='Truth value')\n",
        "plt.scatter(X_test, y_house_predict, label='Predicted value')\n",
        "plt.legend()\n",
        "plt.show()"
      ],
      "metadata": {
        "colab": {
          "base_uri": "https://localhost:8080/",
          "height": 295
        },
        "id": "H2eJ9KZ6btCR",
        "outputId": "6dd22152-8dec-4a53-b4de-f8baccf278d8"
      },
      "execution_count": null,
      "outputs": [
        {
          "output_type": "display_data",
          "data": {
            "text/plain": [
              "<Figure size 432x288 with 1 Axes>"
            ],
            "image/png": "[encoded data removed]"
          },
          "metadata": {
            "needs_background": "light"
          }
        }
      ]
    },
    {
      "cell_type": "code",
      "source": [
        "from sklearn.linear_model import LinearRegression\n",
        "from sklearn.metrics import mean_squared_error\n",
        "\n",
        "lr = LinearRegression()\n",
        "lr.fit(X_train_scaled, y_train)\n",
        "lr_predict = lr.predict(X_test_scaled)\n",
        "\n",
        "pd.DataFrame([lr_predict, y_test], index=['Predicted value', 'Truth value'])"
      ],
      "metadata": {
        "colab": {
          "base_uri": "https://localhost:8080/",
          "height": 240
        },
        "id": "OZV6GeITc0rN",
        "outputId": "612057ee-7a48-470b-f29c-b7c6dc375925"
      },
      "execution_count": null,
      "outputs": [
        {
          "output_type": "execute_result",
          "data": {
            "text/plain": [
              "                           0              1              2              3    \\\n",
              "Predicted value  155370.959889  117312.910176  167256.957397  127370.292683   \n",
              "Truth value      127000.000000  139000.000000  135000.000000  124000.000000   \n",
              "\n",
              "                           4              5             6              7    \\\n",
              "Predicted value  288745.566541  125770.254557  198229.12398  141542.058942   \n",
              "Truth value      309000.000000  156000.000000  290000.00000  140000.000000   \n",
              "\n",
              "                           8              9    ...            355  \\\n",
              "Predicted value  311831.830931  206457.891486  ...  119827.255803   \n",
              "Truth value      250000.000000  178000.000000  ...   93500.000000   \n",
              "\n",
              "                           356            357            358            359  \\\n",
              "Predicted value  296631.468733  250687.516828  181885.877407  310231.792805   \n",
              "Truth value      151400.000000  158000.000000  115000.000000  265979.000000   \n",
              "\n",
              "                           360            361            362            363  \\\n",
              "Predicted value  245430.248699  191486.106163  145542.154257  336746.710323   \n",
              "Truth value      210000.000000  140000.000000  153900.000000  272000.000000   \n",
              "\n",
              "                           364  \n",
              "Predicted value  216515.273992  \n",
              "Truth value      201800.000000  \n",
              "\n",
              "[2 rows x 365 columns]"
            ],
            "text/html": [
              "\n",
              "  <div id=\"df-e783eee7-03d3-4dff-806d-f52c8e1b6ae8\">\n",
              "    <div class=\"colab-df-container\">\n",
              "      <div>\n",
              "<style scoped>\n",
              "    .dataframe tbody tr th:only-of-type {\n",
              "        vertical-align: middle;\n",
              "    }\n",
              "\n",
              "    .dataframe tbody tr th {\n",
              "        vertical-align: top;\n",
              "    }\n",
              "\n",
              "    .dataframe thead th {\n",
              "        text-align: right;\n",
              "    }\n",
              "</style>\n",
              "<table border=\"1\" class=\"dataframe\">\n",
              "  <thead>\n",
              "    <tr style=\"text-align: right;\">\n",
              "      <th></th>\n",
              "      <th>0</th>\n",
              "      <th>1</th>\n",
              "      <th>2</th>\n",
              "      <th>3</th>\n",
              "      <th>4</th>\n",
              "      <th>5</th>\n",
              "      <th>6</th>\n",
              "      <th>7</th>\n",
              "      <th>8</th>\n",
              "      <th>9</th>\n",
              "      <th>...</th>\n",
              "      <th>355</th>\n",
              "      <th>356</th>\n",
              "      <th>357</th>\n",
              "      <th>358</th>\n",
              "      <th>359</th>\n",
              "      <th>360</th>\n",
              "      <th>361</th>\n",
              "      <th>362</th>\n",
              "      <th>363</th>\n",
              "      <th>364</th>\n",
              "    </tr>\n",
              "  </thead>\n",
              "  <tbody>\n",
              "    <tr>\n",
              "      <th>Predicted value</th>\n",
              "      <td>155370.959889</td>\n",
              "      <td>117312.910176</td>\n",
              "      <td>167256.957397</td>\n",
              "      <td>127370.292683</td>\n",
              "      <td>288745.566541</td>\n",
              "      <td>125770.254557</td>\n",
              "      <td>198229.12398</td>\n",
              "      <td>141542.058942</td>\n",
              "      <td>311831.830931</td>\n",
              "      <td>206457.891486</td>\n",
              "      <td>...</td>\n",
              "      <td>119827.255803</td>\n",
              "      <td>296631.468733</td>\n",
              "      <td>250687.516828</td>\n",
              "      <td>181885.877407</td>\n",
              "      <td>310231.792805</td>\n",
              "      <td>245430.248699</td>\n",
              "      <td>191486.106163</td>\n",
              "      <td>145542.154257</td>\n",
              "      <td>336746.710323</td>\n",
              "      <td>216515.273992</td>\n",
              "    </tr>\n",
              "    <tr>\n",
              "      <th>Truth value</th>\n",
              "      <td>127000.000000</td>\n",
              "      <td>139000.000000</td>\n",
              "      <td>135000.000000</td>\n",
              "      <td>124000.000000</td>\n",
              "      <td>309000.000000</td>\n",
              "      <td>156000.000000</td>\n",
              "      <td>290000.00000</td>\n",
              "      <td>140000.000000</td>\n",
              "      <td>250000.000000</td>\n",
              "      <td>178000.000000</td>\n",
              "      <td>...</td>\n",
              "      <td>93500.000000</td>\n",
              "      <td>151400.000000</td>\n",
              "      <td>158000.000000</td>\n",
              "      <td>115000.000000</td>\n",
              "      <td>265979.000000</td>\n",
              "      <td>210000.000000</td>\n",
              "      <td>140000.000000</td>\n",
              "      <td>153900.000000</td>\n",
              "      <td>272000.000000</td>\n",
              "      <td>201800.000000</td>\n",
              "    </tr>\n",
              "  </tbody>\n",
              "</table>\n",
              "<p>2 rows × 365 columns</p>\n",
              "</div>\n",
              "      <button class=\"colab-df-convert\" onclick=\"convertToInteractive('df-e783eee7-03d3-4dff-806d-f52c8e1b6ae8')\"\n",
              "              title=\"Convert this dataframe to an interactive table.\"\n",
              "              style=\"display:none;\">\n",
              "        \n",
              "  <svg xmlns=\"http://www.w3.org/2000/svg\" height=\"24px\"viewBox=\"0 0 24 24\"\n",
              "       width=\"24px\">\n",
              "    <path d=\"M0 0h24v24H0V0z\" fill=\"none\"/>\n",
              "    <path d=\"M18.56 5.44l.94 2.06.94-2.06 2.06-.94-2.06-.94-.94-2.06-.94 2.06-2.06.94zm-11 1L8.5 8.5l.94-2.06 2.06-.94-2.06-.94L8.5 2.5l-.94 2.06-2.06.94zm10 10l.94 2.06.94-2.06 2.06-.94-2.06-.94-.94-2.06-.94 2.06-2.06.94z\"/><path d=\"M17.41 7.96l-1.37-1.37c-.4-.4-.92-.59-1.43-.59-.52 0-1.04.2-1.43.59L10.3 9.45l-7.72 7.72c-.78.78-.78 2.05 0 2.83L4 21.41c.39.39.9.59 1.41.59.51 0 1.02-.2 1.41-.59l7.78-7.78 2.81-2.81c.8-.78.8-2.07 0-2.86zM5.41 20L4 18.59l7.72-7.72 1.47 1.35L5.41 20z\"/>\n",
              "  </svg>\n",
              "      </button>\n",
              "      \n",
              "  <style>\n",
              "    .colab-df-container {\n",
              "      display:flex;\n",
              "      flex-wrap:wrap;\n",
              "      gap: 12px;\n",
              "    }\n",
              "\n",
              "    .colab-df-convert {\n",
              "      background-color: #E8F0FE;\n",
              "      border: none;\n",
              "      border-radius: 50%;\n",
              "      cursor: pointer;\n",
              "      display: none;\n",
              "      fill: #1967D2;\n",
              "      height: 32px;\n",
              "      padding: 0 0 0 0;\n",
              "      width: 32px;\n",
              "    }\n",
              "\n",
              "    .colab-df-convert:hover {\n",
              "      background-color: #E2EBFA;\n",
              "      box-shadow: 0px 1px 2px rgba(60, 64, 67, 0.3), 0px 1px 3px 1px rgba(60, 64, 67, 0.15);\n",
              "      fill: #174EA6;\n",
              "    }\n",
              "\n",
              "    [theme=dark] .colab-df-convert {\n",
              "      background-color: #3B4455;\n",
              "      fill: #D2E3FC;\n",
              "    }\n",
              "\n",
              "    [theme=dark] .colab-df-convert:hover {\n",
              "      background-color: #434B5C;\n",
              "      box-shadow: 0px 1px 3px 1px rgba(0, 0, 0, 0.15);\n",
              "      filter: drop-shadow(0px 1px 2px rgba(0, 0, 0, 0.3));\n",
              "      fill: #FFFFFF;\n",
              "    }\n",
              "  </style>\n",
              "\n",
              "      <script>\n",
              "        const buttonEl =\n",
              "          document.querySelector('#df-e783eee7-03d3-4dff-806d-f52c8e1b6ae8 button.colab-df-convert');\n",
              "        buttonEl.style.display =\n",
              "          google.colab.kernel.accessAllowed ? 'block' : 'none';\n",
              "\n",
              "        async function convertToInteractive(key) {\n",
              "          const element = document.querySelector('#df-e783eee7-03d3-4dff-806d-f52c8e1b6ae8');\n",
              "          const dataTable =\n",
              "            await google.colab.kernel.invokeFunction('convertToInteractive',\n",
              "                                                     [key], {});\n",
              "          if (!dataTable) return;\n",
              "\n",
              "          const docLinkHtml = 'Like what you see? Visit the ' +\n",
              "            '<a target=\"_blank\" href=https://colab.research.google.com/notebooks/data_table.ipynb>data table notebook</a>'\n",
              "            + ' to learn more about interactive tables.';\n",
              "          element.innerHTML = '';\n",
              "          dataTable['output_type'] = 'display_data';\n",
              "          await google.colab.output.renderOutput(dataTable, element);\n",
              "          const docLink = document.createElement('div');\n",
              "          docLink.innerHTML = docLinkHtml;\n",
              "          element.appendChild(docLink);\n",
              "        }\n",
              "      </script>\n",
              "    </div>\n",
              "  </div>\n",
              "  "
            ]
          },
          "metadata": {},
          "execution_count": 18
        }
      ]
    },
    {
      "cell_type": "code",
      "source": [
        "mean_squared_error(y_test, lr_predict)"
      ],
      "metadata": {
        "colab": {
          "base_uri": "https://localhost:8080/"
        },
        "id": "Fgp46elidif0",
        "outputId": "78b70413-bd8e-431c-bfa7-8ec8a24fd627"
      },
      "execution_count": null,
      "outputs": [
        {
          "output_type": "execute_result",
          "data": {
            "text/plain": [
              "3363413839.4051185"
            ]
          },
          "metadata": {},
          "execution_count": 19
        }
      ]
    },
    {
      "cell_type": "markdown",
      "source": [
        "### Problem 7 Plotting the learning curve\n",
        "\n",
        "\n",
        "---\n",
        "\n"
      ],
      "metadata": {
        "id": "e4YWkQe6dyDU"
      }
    },
    {
      "cell_type": "code",
      "source": [
        "plt.title('Learning Curve Plot')\n",
        "plt.xlabel('iter')\n",
        "plt.ylabel('loss')\n",
        "plt.scatter(range(slr_house.iter), slr_house.loss, label='train_loss')\n",
        "plt.scatter(range(slr_house.iter), slr_house.val_loss, label='val_loss')\n",
        "plt.legend()\n",
        "plt.show()"
      ],
      "metadata": {
        "colab": {
          "base_uri": "https://localhost:8080/",
          "height": 295
        },
        "id": "mDELFLtAdpiO",
        "outputId": "263fc751-6bf5-4ca9-c0cb-cbf8dcba4333"
      },
      "execution_count": null,
      "outputs": [
        {
          "output_type": "display_data",
          "data": {
            "text/plain": [
              "<Figure size 432x288 with 1 Axes>"
            ],
            "image/png": "[encoded data removed]"
          },
          "metadata": {
            "needs_background": "light"
          }
        }
      ]
    },
    {
      "cell_type": "markdown",
      "source": [
        "### 【problem 8】(Advance task) Removal of bias term\n",
        "\n",
        "---\n",
        "\n"
      ],
      "metadata": {
        "id": "xdzfmpietNv7"
      }
    },
    {
      "cell_type": "code",
      "source": [
        "slr_nobias = ScratchLinearRegression(no_bias=True)\n",
        "slr_nobias.fit(X_train_scaled, y_train)\n",
        "slr_nobias_predict = slr_nobias.predict(X_test_scaled)\n",
        "\n",
        "pd.DataFrame([slr_nobias_predict, y_test], index=['Predict value', 'Truth value'])"
      ],
      "metadata": {
        "colab": {
          "base_uri": "https://localhost:8080/",
          "height": 240
        },
        "id": "zBq66cR4tNXW",
        "outputId": "1eb0dfad-e094-479d-f856-e54e4e64f6f2"
      },
      "execution_count": null,
      "outputs": [
        {
          "output_type": "execute_result",
          "data": {
            "text/plain": [
              "                         0              1              2              3    \\\n",
              "Predict value  -26391.557338  -64447.964055  -14506.072958  -54391.015733   \n",
              "Truth value    127000.000000  139000.000000  135000.000000  124000.000000   \n",
              "\n",
              "                         4              5              6             7    \\\n",
              "Predict value  106977.291425  -55990.984784   16464.756532  -40219.86128   \n",
              "Truth value    309000.000000  156000.000000  290000.000000  140000.00000   \n",
              "\n",
              "                         8              9    ...           355            356  \\\n",
              "Predict value  130062.559163   24693.168795  ... -61933.726974  114862.853177   \n",
              "Truth value    250000.000000  178000.000000  ...  93500.000000  151400.000000   \n",
              "\n",
              "                         357            358            359            360  \\\n",
              "Predict value   68920.884709     122.215509  128462.590112   63663.843541   \n",
              "Truth value    158000.000000  115000.000000  265979.000000  210000.000000   \n",
              "\n",
              "                         361            362           363            364  \n",
              "Predict value    9722.029816  -36219.938652  154976.36296   34750.117116  \n",
              "Truth value    140000.000000  153900.000000  272000.00000  201800.000000  \n",
              "\n",
              "[2 rows x 365 columns]"
            ],
            "text/html": [
              "\n",
              "  <div id=\"df-678d612a-93fa-4745-a8f2-04e3d5a0ab97\">\n",
              "    <div class=\"colab-df-container\">\n",
              "      <div>\n",
              "<style scoped>\n",
              "    .dataframe tbody tr th:only-of-type {\n",
              "        vertical-align: middle;\n",
              "    }\n",
              "\n",
              "    .dataframe tbody tr th {\n",
              "        vertical-align: top;\n",
              "    }\n",
              "\n",
              "    .dataframe thead th {\n",
              "        text-align: right;\n",
              "    }\n",
              "</style>\n",
              "<table border=\"1\" class=\"dataframe\">\n",
              "  <thead>\n",
              "    <tr style=\"text-align: right;\">\n",
              "      <th></th>\n",
              "      <th>0</th>\n",
              "      <th>1</th>\n",
              "      <th>2</th>\n",
              "      <th>3</th>\n",
              "      <th>4</th>\n",
              "      <th>5</th>\n",
              "      <th>6</th>\n",
              "      <th>7</th>\n",
              "      <th>8</th>\n",
              "      <th>9</th>\n",
              "      <th>...</th>\n",
              "      <th>355</th>\n",
              "      <th>356</th>\n",
              "      <th>357</th>\n",
              "      <th>358</th>\n",
              "      <th>359</th>\n",
              "      <th>360</th>\n",
              "      <th>361</th>\n",
              "      <th>362</th>\n",
              "      <th>363</th>\n",
              "      <th>364</th>\n",
              "    </tr>\n",
              "  </thead>\n",
              "  <tbody>\n",
              "    <tr>\n",
              "      <th>Predict value</th>\n",
              "      <td>-26391.557338</td>\n",
              "      <td>-64447.964055</td>\n",
              "      <td>-14506.072958</td>\n",
              "      <td>-54391.015733</td>\n",
              "      <td>106977.291425</td>\n",
              "      <td>-55990.984784</td>\n",
              "      <td>16464.756532</td>\n",
              "      <td>-40219.86128</td>\n",
              "      <td>130062.559163</td>\n",
              "      <td>24693.168795</td>\n",
              "      <td>...</td>\n",
              "      <td>-61933.726974</td>\n",
              "      <td>114862.853177</td>\n",
              "      <td>68920.884709</td>\n",
              "      <td>122.215509</td>\n",
              "      <td>128462.590112</td>\n",
              "      <td>63663.843541</td>\n",
              "      <td>9722.029816</td>\n",
              "      <td>-36219.938652</td>\n",
              "      <td>154976.36296</td>\n",
              "      <td>34750.117116</td>\n",
              "    </tr>\n",
              "    <tr>\n",
              "      <th>Truth value</th>\n",
              "      <td>127000.000000</td>\n",
              "      <td>139000.000000</td>\n",
              "      <td>135000.000000</td>\n",
              "      <td>124000.000000</td>\n",
              "      <td>309000.000000</td>\n",
              "      <td>156000.000000</td>\n",
              "      <td>290000.000000</td>\n",
              "      <td>140000.00000</td>\n",
              "      <td>250000.000000</td>\n",
              "      <td>178000.000000</td>\n",
              "      <td>...</td>\n",
              "      <td>93500.000000</td>\n",
              "      <td>151400.000000</td>\n",
              "      <td>158000.000000</td>\n",
              "      <td>115000.000000</td>\n",
              "      <td>265979.000000</td>\n",
              "      <td>210000.000000</td>\n",
              "      <td>140000.000000</td>\n",
              "      <td>153900.000000</td>\n",
              "      <td>272000.00000</td>\n",
              "      <td>201800.000000</td>\n",
              "    </tr>\n",
              "  </tbody>\n",
              "</table>\n",
              "<p>2 rows × 365 columns</p>\n",
              "</div>\n",
              "      <button class=\"colab-df-convert\" onclick=\"convertToInteractive('df-678d612a-93fa-4745-a8f2-04e3d5a0ab97')\"\n",
              "              title=\"Convert this dataframe to an interactive table.\"\n",
              "              style=\"display:none;\">\n",
              "        \n",
              "  <svg xmlns=\"http://www.w3.org/2000/svg\" height=\"24px\"viewBox=\"0 0 24 24\"\n",
              "       width=\"24px\">\n",
              "    <path d=\"M0 0h24v24H0V0z\" fill=\"none\"/>\n",
              "    <path d=\"M18.56 5.44l.94 2.06.94-2.06 2.06-.94-2.06-.94-.94-2.06-.94 2.06-2.06.94zm-11 1L8.5 8.5l.94-2.06 2.06-.94-2.06-.94L8.5 2.5l-.94 2.06-2.06.94zm10 10l.94 2.06.94-2.06 2.06-.94-2.06-.94-.94-2.06-.94 2.06-2.06.94z\"/><path d=\"M17.41 7.96l-1.37-1.37c-.4-.4-.92-.59-1.43-.59-.52 0-1.04.2-1.43.59L10.3 9.45l-7.72 7.72c-.78.78-.78 2.05 0 2.83L4 21.41c.39.39.9.59 1.41.59.51 0 1.02-.2 1.41-.59l7.78-7.78 2.81-2.81c.8-.78.8-2.07 0-2.86zM5.41 20L4 18.59l7.72-7.72 1.47 1.35L5.41 20z\"/>\n",
              "  </svg>\n",
              "      </button>\n",
              "      \n",
              "  <style>\n",
              "    .colab-df-container {\n",
              "      display:flex;\n",
              "      flex-wrap:wrap;\n",
              "      gap: 12px;\n",
              "    }\n",
              "\n",
              "    .colab-df-convert {\n",
              "      background-color: #E8F0FE;\n",
              "      border: none;\n",
              "      border-radius: 50%;\n",
              "      cursor: pointer;\n",
              "      display: none;\n",
              "      fill: #1967D2;\n",
              "      height: 32px;\n",
              "      padding: 0 0 0 0;\n",
              "      width: 32px;\n",
              "    }\n",
              "\n",
              "    .colab-df-convert:hover {\n",
              "      background-color: #E2EBFA;\n",
              "      box-shadow: 0px 1px 2px rgba(60, 64, 67, 0.3), 0px 1px 3px 1px rgba(60, 64, 67, 0.15);\n",
              "      fill: #174EA6;\n",
              "    }\n",
              "\n",
              "    [theme=dark] .colab-df-convert {\n",
              "      background-color: #3B4455;\n",
              "      fill: #D2E3FC;\n",
              "    }\n",
              "\n",
              "    [theme=dark] .colab-df-convert:hover {\n",
              "      background-color: #434B5C;\n",
              "      box-shadow: 0px 1px 3px 1px rgba(0, 0, 0, 0.15);\n",
              "      filter: drop-shadow(0px 1px 2px rgba(0, 0, 0, 0.3));\n",
              "      fill: #FFFFFF;\n",
              "    }\n",
              "  </style>\n",
              "\n",
              "      <script>\n",
              "        const buttonEl =\n",
              "          document.querySelector('#df-678d612a-93fa-4745-a8f2-04e3d5a0ab97 button.colab-df-convert');\n",
              "        buttonEl.style.display =\n",
              "          google.colab.kernel.accessAllowed ? 'block' : 'none';\n",
              "\n",
              "        async function convertToInteractive(key) {\n",
              "          const element = document.querySelector('#df-678d612a-93fa-4745-a8f2-04e3d5a0ab97');\n",
              "          const dataTable =\n",
              "            await google.colab.kernel.invokeFunction('convertToInteractive',\n",
              "                                                     [key], {});\n",
              "          if (!dataTable) return;\n",
              "\n",
              "          const docLinkHtml = 'Like what you see? Visit the ' +\n",
              "            '<a target=\"_blank\" href=https://colab.research.google.com/notebooks/data_table.ipynb>data table notebook</a>'\n",
              "            + ' to learn more about interactive tables.';\n",
              "          element.innerHTML = '';\n",
              "          dataTable['output_type'] = 'display_data';\n",
              "          await google.colab.output.renderOutput(dataTable, element);\n",
              "          const docLink = document.createElement('div');\n",
              "          docLink.innerHTML = docLinkHtml;\n",
              "          element.appendChild(docLink);\n",
              "        }\n",
              "      </script>\n",
              "    </div>\n",
              "  </div>\n",
              "  "
            ]
          },
          "metadata": {},
          "execution_count": 21
        }
      ]
    },
    {
      "cell_type": "code",
      "source": [
        "plt.title('Predict with ScratchLinearRegression (no bias)')\n",
        "plt.xlabel('GrLivArea')\n",
        "plt.ylabel('SalePrice')\n",
        "plt.scatter(X_test, y_test, label='Truth value')\n",
        "plt.scatter(X_test, slr_nobias_predict, label='Predicted value')\n",
        "plt.legend()\n",
        "plt.show()"
      ],
      "metadata": {
        "colab": {
          "base_uri": "https://localhost:8080/",
          "height": 295
        },
        "id": "5eRGNJhctZML",
        "outputId": "c4b0fa3b-f4a8-4b99-edad-acdd63544e8c"
      },
      "execution_count": null,
      "outputs": [
        {
          "output_type": "display_data",
          "data": {
            "text/plain": [
              "<Figure size 432x288 with 1 Axes>"
            ],
            "image/png": "[encoded data removed]"
          },
          "metadata": {
            "needs_background": "light"
          }
        }
      ]
    },
    {
      "cell_type": "markdown",
      "source": [
        "The bias term is used to allow models to represent patterns that do not pass through the origin. In this problem, when there is no bias term, the predicted sale price can be negative and most predicted values is smaller than expected values. The bias term now shifts the sale price up on y-axis."
      ],
      "metadata": {
        "id": "5mkF1IUDLgoV"
      }
    },
    {
      "cell_type": "markdown",
      "source": [
        "### 【problem 9】(Advance task) Multidimensional feature quantity\n",
        "\n",
        "---\n",
        "\n"
      ],
      "metadata": {
        "id": "0U3Y-OM3Ls70"
      }
    },
    {
      "cell_type": "code",
      "source": [
        "X = df[['GrLivArea', 'YearBuilt']].values\n",
        "y = df['SalePrice'].values\n",
        "\n",
        "X_train, X_test, y_train, y_test = train_test_split(X, y)\n",
        "print(X_train.shape, X_test.shape, y_train.shape, y_test.shape)"
      ],
      "metadata": {
        "colab": {
          "base_uri": "https://localhost:8080/"
        },
        "id": "1J_THuL1S7N7",
        "outputId": "7e1a67ad-59cc-4092-dda2-6fa889176677"
      },
      "execution_count": null,
      "outputs": [
        {
          "output_type": "stream",
          "name": "stdout",
          "text": [
            "(1095, 2) (365, 2) (1095,) (365,)\n"
          ]
        }
      ]
    },
    {
      "cell_type": "code",
      "source": [
        "scaler = StandardScaler()\n",
        "scaler.fit(X_train)\n",
        "\n",
        "X_train_scaled = scaler.transform(X_train)\n",
        "X_test_scaled = scaler.transform(X_test)\n",
        "\n",
        "\n",
        "slr_house = ScratchLinearRegression()\n",
        "slr_house.fit(X_train_scaled, y_train, X_test_scaled, y_test)\n",
        "y_house_predict = slr_house.predict(X_test_scaled)\n",
        "\n",
        "pd.DataFrame([y_house_predict, y_test])"
      ],
      "metadata": {
        "colab": {
          "base_uri": "https://localhost:8080/",
          "height": 205
        },
        "id": "wduZhozQTria",
        "outputId": "9f231dbb-f46f-4e56-dee1-c9a2abe2334d"
      },
      "execution_count": null,
      "outputs": [
        {
          "output_type": "execute_result",
          "data": {
            "text/plain": [
              "             0              1              2              3              4    \\\n",
              "0  191150.965557  202962.719411  173714.291711  265578.026279  178740.672671   \n",
              "1  199900.000000  180000.000000  141000.000000  274725.000000  218000.000000   \n",
              "\n",
              "             5              6              7              8             9    \\\n",
              "0  113474.829863  111790.052538  180571.952116  123970.953811  137350.86098   \n",
              "1  153900.000000  147000.000000  142500.000000   85000.000000  142000.00000   \n",
              "\n",
              "   ...            355            356            357            358  \\\n",
              "0  ...  272626.525301   93243.045053  127876.398413  230540.827435   \n",
              "1  ...  385000.000000  119000.000000  121600.000000  190000.000000   \n",
              "\n",
              "             359            360            361            362          363  \\\n",
              "0  131653.653477  156481.950584  165150.650018  244357.350318  71048.89914   \n",
              "1  118000.000000  140000.000000  180500.000000  370878.000000  84500.00000   \n",
              "\n",
              "             364  \n",
              "0  182627.804693  \n",
              "1  146000.000000  \n",
              "\n",
              "[2 rows x 365 columns]"
            ],
            "text/html": [
              "\n",
              "  <div id=\"df-909d4d18-bf09-4971-814f-deb756835b62\">\n",
              "    <div class=\"colab-df-container\">\n",
              "      <div>\n",
              "<style scoped>\n",
              "    .dataframe tbody tr th:only-of-type {\n",
              "        vertical-align: middle;\n",
              "    }\n",
              "\n",
              "    .dataframe tbody tr th {\n",
              "        vertical-align: top;\n",
              "    }\n",
              "\n",
              "    .dataframe thead th {\n",
              "        text-align: right;\n",
              "    }\n",
              "</style>\n",
              "<table border=\"1\" class=\"dataframe\">\n",
              "  <thead>\n",
              "    <tr style=\"text-align: right;\">\n",
              "      <th></th>\n",
              "      <th>0</th>\n",
              "      <th>1</th>\n",
              "      <th>2</th>\n",
              "      <th>3</th>\n",
              "      <th>4</th>\n",
              "      <th>5</th>\n",
              "      <th>6</th>\n",
              "      <th>7</th>\n",
              "      <th>8</th>\n",
              "      <th>9</th>\n",
              "      <th>...</th>\n",
              "      <th>355</th>\n",
              "      <th>356</th>\n",
              "      <th>357</th>\n",
              "      <th>358</th>\n",
              "      <th>359</th>\n",
              "      <th>360</th>\n",
              "      <th>361</th>\n",
              "      <th>362</th>\n",
              "      <th>363</th>\n",
              "      <th>364</th>\n",
              "    </tr>\n",
              "  </thead>\n",
              "  <tbody>\n",
              "    <tr>\n",
              "      <th>0</th>\n",
              "      <td>191150.965557</td>\n",
              "      <td>202962.719411</td>\n",
              "      <td>173714.291711</td>\n",
              "      <td>265578.026279</td>\n",
              "      <td>178740.672671</td>\n",
              "      <td>113474.829863</td>\n",
              "      <td>111790.052538</td>\n",
              "      <td>180571.952116</td>\n",
              "      <td>123970.953811</td>\n",
              "      <td>137350.86098</td>\n",
              "      <td>...</td>\n",
              "      <td>272626.525301</td>\n",
              "      <td>93243.045053</td>\n",
              "      <td>127876.398413</td>\n",
              "      <td>230540.827435</td>\n",
              "      <td>131653.653477</td>\n",
              "      <td>156481.950584</td>\n",
              "      <td>165150.650018</td>\n",
              "      <td>244357.350318</td>\n",
              "      <td>71048.89914</td>\n",
              "      <td>182627.804693</td>\n",
              "    </tr>\n",
              "    <tr>\n",
              "      <th>1</th>\n",
              "      <td>199900.000000</td>\n",
              "      <td>180000.000000</td>\n",
              "      <td>141000.000000</td>\n",
              "      <td>274725.000000</td>\n",
              "      <td>218000.000000</td>\n",
              "      <td>153900.000000</td>\n",
              "      <td>147000.000000</td>\n",
              "      <td>142500.000000</td>\n",
              "      <td>85000.000000</td>\n",
              "      <td>142000.00000</td>\n",
              "      <td>...</td>\n",
              "      <td>385000.000000</td>\n",
              "      <td>119000.000000</td>\n",
              "      <td>121600.000000</td>\n",
              "      <td>190000.000000</td>\n",
              "      <td>118000.000000</td>\n",
              "      <td>140000.000000</td>\n",
              "      <td>180500.000000</td>\n",
              "      <td>370878.000000</td>\n",
              "      <td>84500.00000</td>\n",
              "      <td>146000.000000</td>\n",
              "    </tr>\n",
              "  </tbody>\n",
              "</table>\n",
              "<p>2 rows × 365 columns</p>\n",
              "</div>\n",
              "      <button class=\"colab-df-convert\" onclick=\"convertToInteractive('df-909d4d18-bf09-4971-814f-deb756835b62')\"\n",
              "              title=\"Convert this dataframe to an interactive table.\"\n",
              "              style=\"display:none;\">\n",
              "        \n",
              "  <svg xmlns=\"http://www.w3.org/2000/svg\" height=\"24px\"viewBox=\"0 0 24 24\"\n",
              "       width=\"24px\">\n",
              "    <path d=\"M0 0h24v24H0V0z\" fill=\"none\"/>\n",
              "    <path d=\"M18.56 5.44l.94 2.06.94-2.06 2.06-.94-2.06-.94-.94-2.06-.94 2.06-2.06.94zm-11 1L8.5 8.5l.94-2.06 2.06-.94-2.06-.94L8.5 2.5l-.94 2.06-2.06.94zm10 10l.94 2.06.94-2.06 2.06-.94-2.06-.94-.94-2.06-.94 2.06-2.06.94z\"/><path d=\"M17.41 7.96l-1.37-1.37c-.4-.4-.92-.59-1.43-.59-.52 0-1.04.2-1.43.59L10.3 9.45l-7.72 7.72c-.78.78-.78 2.05 0 2.83L4 21.41c.39.39.9.59 1.41.59.51 0 1.02-.2 1.41-.59l7.78-7.78 2.81-2.81c.8-.78.8-2.07 0-2.86zM5.41 20L4 18.59l7.72-7.72 1.47 1.35L5.41 20z\"/>\n",
              "  </svg>\n",
              "      </button>\n",
              "      \n",
              "  <style>\n",
              "    .colab-df-container {\n",
              "      display:flex;\n",
              "      flex-wrap:wrap;\n",
              "      gap: 12px;\n",
              "    }\n",
              "\n",
              "    .colab-df-convert {\n",
              "      background-color: #E8F0FE;\n",
              "      border: none;\n",
              "      border-radius: 50%;\n",
              "      cursor: pointer;\n",
              "      display: none;\n",
              "      fill: #1967D2;\n",
              "      height: 32px;\n",
              "      padding: 0 0 0 0;\n",
              "      width: 32px;\n",
              "    }\n",
              "\n",
              "    .colab-df-convert:hover {\n",
              "      background-color: #E2EBFA;\n",
              "      box-shadow: 0px 1px 2px rgba(60, 64, 67, 0.3), 0px 1px 3px 1px rgba(60, 64, 67, 0.15);\n",
              "      fill: #174EA6;\n",
              "    }\n",
              "\n",
              "    [theme=dark] .colab-df-convert {\n",
              "      background-color: #3B4455;\n",
              "      fill: #D2E3FC;\n",
              "    }\n",
              "\n",
              "    [theme=dark] .colab-df-convert:hover {\n",
              "      background-color: #434B5C;\n",
              "      box-shadow: 0px 1px 3px 1px rgba(0, 0, 0, 0.15);\n",
              "      filter: drop-shadow(0px 1px 2px rgba(0, 0, 0, 0.3));\n",
              "      fill: #FFFFFF;\n",
              "    }\n",
              "  </style>\n",
              "\n",
              "      <script>\n",
              "        const buttonEl =\n",
              "          document.querySelector('#df-909d4d18-bf09-4971-814f-deb756835b62 button.colab-df-convert');\n",
              "        buttonEl.style.display =\n",
              "          google.colab.kernel.accessAllowed ? 'block' : 'none';\n",
              "\n",
              "        async function convertToInteractive(key) {\n",
              "          const element = document.querySelector('#df-909d4d18-bf09-4971-814f-deb756835b62');\n",
              "          const dataTable =\n",
              "            await google.colab.kernel.invokeFunction('convertToInteractive',\n",
              "                                                     [key], {});\n",
              "          if (!dataTable) return;\n",
              "\n",
              "          const docLinkHtml = 'Like what you see? Visit the ' +\n",
              "            '<a target=\"_blank\" href=https://colab.research.google.com/notebooks/data_table.ipynb>data table notebook</a>'\n",
              "            + ' to learn more about interactive tables.';\n",
              "          element.innerHTML = '';\n",
              "          dataTable['output_type'] = 'display_data';\n",
              "          await google.colab.output.renderOutput(dataTable, element);\n",
              "          const docLink = document.createElement('div');\n",
              "          docLink.innerHTML = docLinkHtml;\n",
              "          element.appendChild(docLink);\n",
              "        }\n",
              "      </script>\n",
              "    </div>\n",
              "  </div>\n",
              "  "
            ]
          },
          "metadata": {},
          "execution_count": 30
        }
      ]
    },
    {
      "cell_type": "code",
      "source": [
        "MSE(y_house_predict, y_test)"
      ],
      "metadata": {
        "colab": {
          "base_uri": "https://localhost:8080/"
        },
        "id": "5ISxq-w5T4uC",
        "outputId": "359e1473-d956-4978-aacb-7dcd9545da7c"
      },
      "execution_count": null,
      "outputs": [
        {
          "output_type": "execute_result",
          "data": {
            "text/plain": [
              "1772297073.0597785"
            ]
          },
          "metadata": {},
          "execution_count": 31
        }
      ]
    },
    {
      "cell_type": "code",
      "source": [
        "plt.title('Predict with ScratchLinearRegression (GrLivArea & SalePrice)')\n",
        "plt.xlabel('GrLivArea')\n",
        "plt.ylabel('SalePrice')\n",
        "plt.scatter(X_test[:, 0], y_test, label='Truth value')\n",
        "plt.scatter(X_test[:, 0], y_house_predict, label='Predicted value')\n",
        "plt.legend()\n",
        "plt.show()\n",
        "\n",
        "print(\" -----------------------------------------------------------------\")\n",
        "\n",
        "\n",
        "plt.title('Predict with ScratchLinearRegression (YearBuilt & SalePrice)')\n",
        "plt.xlabel('YearBuilt')\n",
        "plt.ylabel('SalePrice')\n",
        "plt.scatter(X_test[:, 1], y_test, label='Truth value')\n",
        "plt.scatter(X_test[:, 1], y_house_predict, label='Predicted value')\n",
        "plt.legend()\n",
        "plt.show()"
      ],
      "metadata": {
        "colab": {
          "base_uri": "https://localhost:8080/",
          "height": 590
        },
        "id": "gGB4wpbuUcE5",
        "outputId": "c0e69541-5e1b-4e77-da9d-7e3df676e54e"
      },
      "execution_count": null,
      "outputs": [
        {
          "output_type": "display_data",
          "data": {
            "text/plain": [
              "<Figure size 432x288 with 1 Axes>"
            ],
            "image/png": "[encoded data removed]"
          },
          "metadata": {
            "needs_background": "light"
          }
        },
        {
          "output_type": "stream",
          "name": "stdout",
          "text": [
            " -----------------------------------------------------------------\n"
          ]
        },
        {
          "output_type": "display_data",
          "data": {
            "text/plain": [
              "<Figure size 432x288 with 1 Axes>"
            ],
            "image/png": "[encoded data removed]"
          },
          "metadata": {
            "needs_background": "light"
          }
        }
      ]
    },
    {
      "cell_type": "markdown",
      "source": [
        "### 【problem 10】(Advance task) Derivation of update formula\n",
        "\n",
        "---\n",
        "\n"
      ],
      "metadata": {
        "id": "SDSAyUYAYEvX"
      }
    },
    {
      "cell_type": "markdown",
      "source": [
        "The update formula for the steepest descent method was as follows. Explain the process by which this equation is derived.\n",
        "\n",
        "**`𝜃𝑗:=𝜃𝑗−𝛼1𝑚∑𝑚𝑖=1[(ℎ𝜃(𝑥(𝑖))−𝑦(𝑖))𝑥(𝑖)𝑗]`**\n",
        "\n",
        "To optimize 𝜃, we consider the following equation using the steepest descent descent method. This equation calculates the derivative of the objectives function J with respect to 𝜃 (the slope of J), and updates 𝜃 by the slope x learning rate.\n",
        "\n",
        "**𝜃𝑗:=𝜃𝑗−∂∂𝜃𝑗𝐽(𝜃)**\n",
        "\n",
        "Here, **𝐽(𝜃)=12𝑚∑𝑚𝑖=1(ℎ𝜃(𝑥(𝑖))−𝑦(𝑖))2**\n",
        "\n",
        "**𝐽(𝜃)=12𝑚∑𝑚𝑖=1(𝜃𝑥(𝑖)−𝑦(𝑖))2=12𝑚∑𝑚𝑖=1((𝑥(𝑖)𝜃)2−2𝑦(𝑖)𝑥(𝑖)𝜃+(𝑦(𝑖))2)**\n",
        "\n",
        "From here, we can differentiate with respect to **𝜃**\n",
        "\n",
        "**`ΔJ(𝜃)/Δ𝜃 =1/2 mΣ(2𝑥2𝜃−2𝑦𝑥) =1/𝑚∑𝑥(𝑥𝜃−𝑦)`**"
      ],
      "metadata": {
        "id": "j_0ZinQcawQk"
      }
    }
  ],
  "metadata": {
    "colab": {
      "provenance": [],
      "collapsed_sections": [],
      "authorship_tag": "ABX9TyNCsMl/oyy+4vSfK3farL+0",
      "include_colab_link": true
    },
    "kernelspec": {
      "display_name": "Python 3",
      "name": "python3"
    },
    "language_info": {
      "name": "python"
    }
  },
  "nbformat": 4,
  "nbformat_minor": 0
}